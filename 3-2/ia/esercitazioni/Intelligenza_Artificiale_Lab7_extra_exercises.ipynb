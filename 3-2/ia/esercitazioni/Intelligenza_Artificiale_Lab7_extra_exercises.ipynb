{
  "cells": [
    {
      "cell_type": "markdown",
      "metadata": {
        "id": "hA4mtAwrMtXO"
      },
      "source": [
        "## EXERCISE 1\n",
        "\n",
        "<img src='https://drive.google.com/uc?id=1C2vyT2X19C_IekWf3rELuF4SumvJxo2b'>\n",
        "\n",
        "1) Write a Python script that computes P(g|do(r)) seen during the lecture\n",
        "\n",
        "2) What is the causal effect of the cloudy weather $c$ on the grass' wetness $g$? (i.e. math expression of $P(g | do(c))$\n",
        "\n",
        "3) Between rain and sprinkler, which one has the stronger causal effect on the wetness, $P(g | do(r))$ or $P(g | do(s))$ ?\n",
        "\n",
        "4) Compute the average causal effect (ACE) of the sprinkler on the wetness $g$."
      ]
    },
    {
      "attachments": {},
      "cell_type": "markdown",
      "metadata": {},
      "source": [
        "### 1. Write a Python script that computes P(g|do(r)) seen during the lecture"
      ]
    },
    {
      "cell_type": "code",
      "execution_count": 2,
      "metadata": {},
      "outputs": [],
      "source": [
        "from IPython.display import display, Math, Latex\n",
        "\n",
        "import pyAgrum as gum\n",
        "import pyAgrum.lib.notebook as gnb\n",
        "import pyAgrum.causal as csl\n",
        "import pyAgrum.causal.notebook as cslnb"
      ]
    },
    {
      "cell_type": "code",
      "execution_count": 3,
      "metadata": {},
      "outputs": [
        {
          "data": {
            "text/html": [
              "\n",
              "      <style>\n",
              "      .floating-box {\n",
              "      display: inline-block;\n",
              "      margin: 7px;\n",
              "      padding : 3px;\n",
              "      border: 0px solid transparent;  \n",
              "      valign:middle;\n",
              "      background-color: transparent;\n",
              "      }\n",
              "      </style>\n",
              "      <div class=\"floating-box\"><svg xmlns=\"http://www.w3.org/2000/svg\" xmlns:xlink=\"http://www.w3.org/1999/xlink\" width=\"168pt\" height=\"188pt\" viewBox=\"0.00 0.00 167.84 188.00\">\n",
              "<g id=\"graph0\" class=\"graph\" transform=\"scale(1 1) rotate(0) translate(4 184)\">\n",
              "<title>G</title>\n",
              "<!-- GrassWet -->\n",
              "<g id=\"node1\" class=\"node\">\n",
              "<title>GrassWet</title>\n",
              "<g id=\"a_node1\"><a xlink:title=\"(2) GrassWet\">\n",
              "<ellipse fill=\"#404040\" stroke=\"black\" cx=\"87.55\" cy=\"-18\" rx=\"47.39\" ry=\"18\"/>\n",
              "<text text-anchor=\"middle\" x=\"87.55\" y=\"-14.3\" font-family=\"Times New Roman,serif\" font-size=\"14.00\" fill=\"white\">GrassWet</text>\n",
              "</a>\n",
              "</g>\n",
              "</g>\n",
              "<!-- Cloudy -->\n",
              "<g id=\"node2\" class=\"node\">\n",
              "<title>Cloudy</title>\n",
              "<g id=\"a_node2\"><a xlink:title=\"(0) Cloudy\">\n",
              "<ellipse fill=\"#404040\" stroke=\"black\" cx=\"87.55\" cy=\"-162\" rx=\"37.89\" ry=\"18\"/>\n",
              "<text text-anchor=\"middle\" x=\"87.55\" y=\"-158.3\" font-family=\"Times New Roman,serif\" font-size=\"14.00\" fill=\"white\">Cloudy</text>\n",
              "</a>\n",
              "</g>\n",
              "</g>\n",
              "<!-- Sprinkler -->\n",
              "<g id=\"node3\" class=\"node\">\n",
              "<title>Sprinkler</title>\n",
              "<g id=\"a_node3\"><a xlink:title=\"(3) Sprinkler\">\n",
              "<ellipse fill=\"#404040\" stroke=\"black\" cx=\"43.55\" cy=\"-90\" rx=\"43.59\" ry=\"18\"/>\n",
              "<text text-anchor=\"middle\" x=\"43.55\" y=\"-86.3\" font-family=\"Times New Roman,serif\" font-size=\"14.00\" fill=\"white\">Sprinkler</text>\n",
              "</a>\n",
              "</g>\n",
              "</g>\n",
              "<!-- Cloudy&#45;&gt;Sprinkler -->\n",
              "<g id=\"edge3\" class=\"edge\">\n",
              "<title>Cloudy-&gt;Sprinkler</title>\n",
              "<g id=\"a_edge3\"><a xlink:title=\"0 → 3\">\n",
              "<path fill=\"none\" stroke=\"#4a4a4a\" d=\"M77.12,-144.41C71.91,-136.13 65.5,-125.92 59.68,-116.66\"/>\n",
              "<polygon fill=\"#4a4a4a\" stroke=\"#4a4a4a\" points=\"62.18,-115.07 53.9,-108.47 56.26,-118.8 62.18,-115.07\"/>\n",
              "</a>\n",
              "</g>\n",
              "</g>\n",
              "<!-- Rain -->\n",
              "<g id=\"node4\" class=\"node\">\n",
              "<title>Rain</title>\n",
              "<g id=\"a_node4\"><a xlink:title=\"(1) Rain\">\n",
              "<ellipse fill=\"#404040\" stroke=\"black\" cx=\"132.55\" cy=\"-90\" rx=\"27.1\" ry=\"18\"/>\n",
              "<text text-anchor=\"middle\" x=\"132.55\" y=\"-86.3\" font-family=\"Times New Roman,serif\" font-size=\"14.00\" fill=\"white\">Rain</text>\n",
              "</a>\n",
              "</g>\n",
              "</g>\n",
              "<!-- Cloudy&#45;&gt;Rain -->\n",
              "<g id=\"edge1\" class=\"edge\">\n",
              "<title>Cloudy-&gt;Rain</title>\n",
              "<g id=\"a_edge1\"><a xlink:title=\"0 → 1\">\n",
              "<path fill=\"none\" stroke=\"#4a4a4a\" d=\"M98.21,-144.41C103.67,-135.92 110.43,-125.41 116.5,-115.96\"/>\n",
              "<polygon fill=\"#4a4a4a\" stroke=\"#4a4a4a\" points=\"119.8,-118.29 122.27,-107.99 113.92,-114.51 119.8,-118.29\"/>\n",
              "</a>\n",
              "</g>\n",
              "</g>\n",
              "<!-- Sprinkler&#45;&gt;GrassWet -->\n",
              "<g id=\"edge4\" class=\"edge\">\n",
              "<title>Sprinkler-&gt;GrassWet</title>\n",
              "<g id=\"a_edge4\"><a xlink:title=\"3 → 2\">\n",
              "<path fill=\"none\" stroke=\"#4a4a4a\" d=\"M54.2,-72.05C59.33,-63.89 65.6,-53.91 71.31,-44.82\"/>\n",
              "<polygon fill=\"#4a4a4a\" stroke=\"#4a4a4a\" points=\"74.63,-47.12 76.99,-36.79 68.71,-43.39 74.63,-47.12\"/>\n",
              "</a>\n",
              "</g>\n",
              "</g>\n",
              "<!-- Rain&#45;&gt;GrassWet -->\n",
              "<g id=\"edge2\" class=\"edge\">\n",
              "<title>Rain-&gt;GrassWet</title>\n",
              "<g id=\"a_edge2\"><a xlink:title=\"1 → 2\">\n",
              "<path fill=\"none\" stroke=\"#4a4a4a\" d=\"M122.33,-73.12C116.97,-64.77 110.25,-54.32 104.16,-44.84\"/>\n",
              "<polygon fill=\"#4a4a4a\" stroke=\"#4a4a4a\" points=\"106.7,-43.32 98.34,-36.8 100.81,-47.1 106.7,-43.32\"/>\n",
              "</a>\n",
              "</g>\n",
              "</g>\n",
              "</g>\n",
              "</svg></div><div class=\"floating-box\"><table style=\"border:1px solid black;\">\n",
              "<tr style='border:1px solid black;color:black;background-color:#808080'>\n",
              "      <th colspan='2'><center>Cloudy</center></th></tr>\n",
              "<tr><th style='border:1px solid black;border-bottom-style: double;color:black;background-color:#BBBBBB'>\n",
              "      <center>T</center></th><th style='border:1px solid black;border-bottom-style: double;color:black;background-color:#BBBBBB'>\n",
              "      <center>F</center></th></tr>\n",
              "<tr><td style='color:black;background-color:#bfbf64;text-align:right;'>0.5000</td><td style='color:black;background-color:#bfbf64;text-align:right;'>0.5000</td></tr>\n",
              "</table></div><div class=\"floating-box\"><table style=\"border:1px solid black;\">\n",
              "<tr><th colspan='1'></th>\n",
              "      <th colspan='2' style='border:1px solid black;color:black;background-color:#808080;'><center>Rain</center>\n",
              "      </th></tr>\n",
              "<tr><th style='border:1px solid black;color:black;background-color:#808080'><center>Cloudy</center></th><th style='border:1px solid black;border-bottom-style: double;color:black;background-color:#BBBBBB'>\n",
              "      <center>T</center></th><th style='border:1px solid black;border-bottom-style: double;color:black;background-color:#BBBBBB'>\n",
              "      <center>F</center></th></tr>\n",
              "<tr><th style='border:1px solid black;color:black;background-color:#BBBBBB'><center>T</center></th><td style='color:black;background-color:#98e564;text-align:right;'>0.8000</td><td style='color:black;background-color:#e59864;text-align:right;'>0.2000</td></tr>\n",
              "<tr><th style='border:1px solid black;color:black;background-color:#BBBBBB'><center>F</center></th><td style='color:black;background-color:#f28b64;text-align:right;'>0.1000</td><td style='color:black;background-color:#8bf264;text-align:right;'>0.9000</td></tr>\n",
              "</table></div><div class=\"floating-box\"><table style=\"border:1px solid black;\">\n",
              "<tr><th colspan='1'></th>\n",
              "      <th colspan='2' style='border:1px solid black;color:black;background-color:#808080;'><center>Sprinkler</center>\n",
              "      </th></tr>\n",
              "<tr><th style='border:1px solid black;color:black;background-color:#808080'><center>Cloudy</center></th><th style='border:1px solid black;border-bottom-style: double;color:black;background-color:#BBBBBB'>\n",
              "      <center>T</center></th><th style='border:1px solid black;border-bottom-style: double;color:black;background-color:#BBBBBB'>\n",
              "      <center>F</center></th></tr>\n",
              "<tr><th style='border:1px solid black;color:black;background-color:#BBBBBB'><center>T</center></th><td style='color:black;background-color:#f28b64;text-align:right;'>0.1000</td><td style='color:black;background-color:#8bf264;text-align:right;'>0.9000</td></tr>\n",
              "<tr><th style='border:1px solid black;color:black;background-color:#BBBBBB'><center>F</center></th><td style='color:black;background-color:#bfbf64;text-align:right;'>0.5000</td><td style='color:black;background-color:#bfbf64;text-align:right;'>0.5000</td></tr>\n",
              "</table></div><div class=\"floating-box\"><table style=\"border:1px solid black;\">\n",
              "<tr><th colspan='2'></th>\n",
              "      <th colspan='2' style='border:1px solid black;color:black;background-color:#808080;'><center>GrassWet</center>\n",
              "      </th></tr>\n",
              "<tr><th style='border:1px solid black;color:black;background-color:#808080'><center>Sprinkler</center></th><th style='border:1px solid black;color:black;background-color:#808080'><center>Rain</center></th><th style='border:1px solid black;border-bottom-style: double;color:black;background-color:#BBBBBB'>\n",
              "      <center>T</center></th><th style='border:1px solid black;border-bottom-style: double;color:black;background-color:#BBBBBB'>\n",
              "      <center>F</center></th></tr>\n",
              "<tr><th style='border:1px solid black;color:black;background-color:#BBBBBB;' rowspan = '2'>\n",
              "            <center>T</center></th><th style='border:1px solid black;color:black;background-color:#BBBBBB'><center>T</center></th><td style='color:black;background-color:#85f864;text-align:right;'>0.9500</td><td style='color:black;background-color:#f88564;text-align:right;'>0.0500</td></tr>\n",
              "<tr><th style='border:1px solid black;color:black;background-color:#BBBBBB'><center>F</center></th><td style='color:black;background-color:#8bf264;text-align:right;'>0.9000</td><td style='color:black;background-color:#f28b64;text-align:right;'>0.1000</td></tr>\n",
              "<tr><th style='border:1px solid black;color:black;background-color:#BBBBBB;' rowspan = '2'>\n",
              "            <center>F</center></th><th style='border:1px solid black;color:black;background-color:#BBBBBB'><center>T</center></th><td style='color:black;background-color:#8bf264;text-align:right;'>0.9000</td><td style='color:black;background-color:#f28b64;text-align:right;'>0.1000</td></tr>\n",
              "<tr><th style='border:1px solid black;color:black;background-color:#BBBBBB'><center>F</center></th><td style='color:black;background-color:#f28b64;text-align:right;'>0.1000</td><td style='color:black;background-color:#8bf264;text-align:right;'>0.9000</td></tr>\n",
              "</table></div>"
            ],
            "text/plain": [
              "<IPython.core.display.HTML object>"
            ]
          },
          "metadata": {},
          "output_type": "display_data"
        }
      ],
      "source": [
        "m1 = gum.fastBN(\"Cloudy{T|F}->Rain{T|F}->GrassWet{T|F};Cloudy{T|F}->Sprinkler{T|F}->GrassWet{T|F}\")\n",
        "\n",
        "m1.cpt(\"Cloudy\")[:]=[0.5,0.5]\n",
        "m1.cpt(\"Rain\")[:]=[[0.8,0.2], [0.1,0.9]]\n",
        "m1.cpt(\"Sprinkler\")[:]=[[0.1,0.9], [0.5,0.5]]\n",
        "\n",
        "m1.cpt(\"GrassWet\")[{'Rain':'T','Sprinkler':'T'}] = [0.95,0.05]\n",
        "m1.cpt(\"GrassWet\")[{'Rain':'T','Sprinkler':'F'}] = [0.90,0.10]\n",
        "m1.cpt(\"GrassWet\")[{'Rain':'F','Sprinkler':'T'}] = [0.90,0.10]\n",
        "m1.cpt(\"GrassWet\")[{'Rain':'F','Sprinkler':'F'}] = [0.10,0.90]\n",
        "\n",
        "gnb.flow.row(m1, m1.cpt(\"Cloudy\"), m1.cpt(\"Rain\"), m1.cpt(\"Sprinkler\"), m1.cpt(\"GrassWet\"))"
      ]
    },
    {
      "cell_type": "code",
      "execution_count": 12,
      "metadata": {},
      "outputs": [
        {
          "data": {
            "text/plain": [
              "{0: 'Cloudy', 1: 'Rain', 2: 'GrassWet', 3: 'Sprinkler'}"
            ]
          },
          "execution_count": 12,
          "metadata": {},
          "output_type": "execute_result"
        }
      ],
      "source": [
        "d1 = csl.CausalModel(m1)\n",
        "#cslnb.showCausalModel(d1)\n",
        "\n",
        "d1.names()"
      ]
    },
    {
      "cell_type": "code",
      "execution_count": 5,
      "metadata": {},
      "outputs": [
        {
          "data": {
            "text/html": [
              "\n",
              "      <style>\n",
              "      .floating-box {\n",
              "      display: inline-block;\n",
              "      margin: 7px;\n",
              "      padding : 3px;\n",
              "      border: 0px solid transparent;  \n",
              "      valign:middle;\n",
              "      background-color: transparent;\n",
              "      }\n",
              "      </style>\n",
              "      <div class=\"floating-box\"><svg xmlns=\"http://www.w3.org/2000/svg\" xmlns:xlink=\"http://www.w3.org/1999/xlink\" width=\"161pt\" height=\"180pt\" viewBox=\"0.00 0.00 160.70 180.00\">\n",
              "<g id=\"graph0\" class=\"graph\" transform=\"scale(0.957447 0.957447) rotate(0) translate(4 184)\">\n",
              "<title>G</title>\n",
              "<!-- Cloudy -->\n",
              "<g id=\"node1\" class=\"node\">\n",
              "<title>Cloudy</title>\n",
              "<ellipse fill=\"#404040\" stroke=\"#4a4a4a\" cx=\"71.3\" cy=\"-162\" rx=\"37.89\" ry=\"18\"/>\n",
              "<text text-anchor=\"middle\" x=\"71.3\" y=\"-158.3\" font-family=\"Times New Roman,serif\" font-size=\"14.00\" fill=\"white\">Cloudy</text>\n",
              "</g>\n",
              "<!-- Rain -->\n",
              "<g id=\"node2\" class=\"node\">\n",
              "<title>Rain</title>\n",
              "<ellipse fill=\"#404040\" stroke=\"#4a4a4a\" cx=\"27.3\" cy=\"-90\" rx=\"27.1\" ry=\"18\"/>\n",
              "<text text-anchor=\"middle\" x=\"27.3\" y=\"-86.3\" font-family=\"Times New Roman,serif\" font-size=\"14.00\" fill=\"white\">Rain</text>\n",
              "</g>\n",
              "<!-- Cloudy&#45;&gt;Rain -->\n",
              "<g id=\"edge1\" class=\"edge\">\n",
              "<title>Cloudy-&gt;Rain</title>\n",
              "<path fill=\"none\" stroke=\"#4a4a4a\" d=\"M60.02,-144.94C54.74,-136.54 48.22,-126.16 42.33,-116.79\"/>\n",
              "<path fill=\"none\" stroke=\"#4a4a4a\" d=\"M61.72,-143.88C56.44,-135.48 49.91,-125.1 44.02,-115.73\"/>\n",
              "<polygon fill=\"#4a4a4a\" stroke=\"#4a4a4a\" points=\"45.63,-114.59 37.35,-107.99 39.71,-118.32 45.63,-114.59\"/>\n",
              "</g>\n",
              "<!-- Sprinkler -->\n",
              "<g id=\"node4\" class=\"node\">\n",
              "<title>Sprinkler</title>\n",
              "<ellipse fill=\"#404040\" stroke=\"#4a4a4a\" cx=\"116.3\" cy=\"-90\" rx=\"43.59\" ry=\"18\"/>\n",
              "<text text-anchor=\"middle\" x=\"116.3\" y=\"-86.3\" font-family=\"Times New Roman,serif\" font-size=\"14.00\" fill=\"white\">Sprinkler</text>\n",
              "</g>\n",
              "<!-- Cloudy&#45;&gt;Sprinkler -->\n",
              "<g id=\"edge3\" class=\"edge\">\n",
              "<title>Cloudy-&gt;Sprinkler</title>\n",
              "<path fill=\"none\" stroke=\"#4a4a4a\" d=\"M81.12,-143.87C86.44,-135.59 93,-125.38 98.96,-116.12\"/>\n",
              "<path fill=\"none\" stroke=\"#4a4a4a\" d=\"M82.8,-144.95C88.13,-136.67 94.69,-126.47 100.64,-117.2\"/>\n",
              "<polygon fill=\"#4a4a4a\" stroke=\"#4a4a4a\" points=\"103.25,-118.77 105.71,-108.47 97.36,-114.99 103.25,-118.77\"/>\n",
              "</g>\n",
              "<!-- GrassWet -->\n",
              "<g id=\"node3\" class=\"node\">\n",
              "<title>GrassWet</title>\n",
              "<ellipse fill=\"#404040\" stroke=\"#4a4a4a\" cx=\"71.3\" cy=\"-18\" rx=\"47.39\" ry=\"18\"/>\n",
              "<text text-anchor=\"middle\" x=\"71.3\" y=\"-14.3\" font-family=\"Times New Roman,serif\" font-size=\"14.00\" fill=\"white\">GrassWet</text>\n",
              "</g>\n",
              "<!-- Rain&#45;&gt;GrassWet -->\n",
              "<g id=\"edge2\" class=\"edge\">\n",
              "<title>Rain-&gt;GrassWet</title>\n",
              "<path fill=\"none\" stroke=\"#4a4a4a\" d=\"M36.44,-72.58C41.68,-64.23 48.25,-53.79 54.21,-44.31\"/>\n",
              "<path fill=\"none\" stroke=\"#4a4a4a\" d=\"M38.13,-73.65C43.38,-65.3 49.94,-54.85 55.9,-45.37\"/>\n",
              "<polygon fill=\"#4a4a4a\" stroke=\"#4a4a4a\" points=\"58.38,-47.13 60.74,-36.8 52.45,-43.4 58.38,-47.13\"/>\n",
              "</g>\n",
              "<!-- Sprinkler&#45;&gt;GrassWet -->\n",
              "<g id=\"edge4\" class=\"edge\">\n",
              "<title>Sprinkler-&gt;GrassWet</title>\n",
              "<path fill=\"none\" stroke=\"#4a4a4a\" d=\"M104.79,-72.95C99.55,-64.79 93.1,-54.76 87.21,-45.61\"/>\n",
              "<path fill=\"none\" stroke=\"#4a4a4a\" d=\"M106.47,-71.87C101.23,-63.71 94.78,-53.68 88.9,-44.52\"/>\n",
              "<polygon fill=\"#4a4a4a\" stroke=\"#4a4a4a\" points=\"90.55,-43.48 82.2,-36.96 84.66,-47.26 90.55,-43.48\"/>\n",
              "</g>\n",
              "</g>\n",
              "</svg><br><center><small><em>Causal Model</em></small></center></div><div class=\"floating-box\">$$\\begin{equation*}P( GrassWet \\mid \\hookrightarrow\\mkern-6.5muRain) = \\sum_{Cloudy}{P\\left(GrassWet\\mid Cloudy,Rain\\right) \\cdot P\\left(Cloudy\\right)}\\end{equation*}$$<br><center><small><em>Explanation : backdoor ['Cloudy'] found.</em></small></center></div><div class=\"floating-box\"><table style=\"border:1px solid black;\">\n",
              "<tr style='border:1px solid black;color:black;background-color:#808080'>\n",
              "      <th colspan='2'><center>GrassWet</center></th></tr>\n",
              "<tr><th style='border:1px solid black;border-bottom-style: double;color:black;background-color:#BBBBBB'>\n",
              "      <center>T</center></th><th style='border:1px solid black;border-bottom-style: double;color:black;background-color:#BBBBBB'>\n",
              "      <center>F</center></th></tr>\n",
              "<tr><td style='color:black;background-color:#89f464;text-align:right;'>0.9150</td><td style='color:black;background-color:#f48964;text-align:right;'>0.0850</td></tr>\n",
              "</table><br><center><small><em>Impact</em></small></center></div>"
            ],
            "text/plain": [
              "<IPython.core.display.HTML object>"
            ]
          },
          "metadata": {},
          "output_type": "display_data"
        }
      ],
      "source": [
        "cslnb.showCausalImpact(d1, 'GrassWet', doing='Rain', values={'Rain':'T'})"
      ]
    },
    {
      "cell_type": "code",
      "execution_count": 6,
      "metadata": {},
      "outputs": [
        {
          "name": "stdout",
          "output_type": "stream",
          "text": [
            "[0.915 0.085]\n"
          ]
        }
      ],
      "source": [
        "ci1 = csl.causalImpact(d1, 'GrassWet', doing='Rain', values={'Rain':'T'})\n",
        "\n",
        "g_do_r = ci1[1].toarray()\n",
        "print(g_do_r)"
      ]
    },
    {
      "attachments": {},
      "cell_type": "markdown",
      "metadata": {},
      "source": [
        "### 2. What is the causal effect of the cloudy weather $c$ on the grass' wetness $g$? (i.e. math expression of $P(g | do(c))$"
      ]
    },
    {
      "attachments": {},
      "cell_type": "markdown",
      "metadata": {},
      "source": [
        "$Cloudy$ has no parents, so:\n",
        "$$ P(g|do(c)) = P(g|c) $$"
      ]
    },
    {
      "cell_type": "code",
      "execution_count": 7,
      "metadata": {},
      "outputs": [
        {
          "name": "stdout",
          "output_type": "stream",
          "text": [
            "[0.76 0.24]\n"
          ]
        }
      ],
      "source": [
        "ci2 = csl.causalImpact(d1, 'GrassWet', doing='Cloudy', values={'Cloudy':'T'})\n",
        "\n",
        "g_do_c = ci2[1].toarray()\n",
        "print(g_do_c)"
      ]
    },
    {
      "attachments": {},
      "cell_type": "markdown",
      "metadata": {},
      "source": [
        "$$ P(g|do(c)) = P(g|c) = \\frac{P(g,c)}{P(c)} = \\alpha \\sum_{r,s \\in R,S} P(g,r,s,c) = \\alpha \\sum_{r,s \\in R,S} P(c) P(r|c) P(s|c) P(g|r,s) \\\\ = \\alpha P(c) \\sum_{r \\in R} P(r|c) \\sum_{s \\in S} P(s|c) P(g|r,s) = \\alpha' \\sum_{r \\in R} P(r|c) \\sum_{s \\in S} P(s|c) P(g|r,s)$$\n",
        "(c=T)"
      ]
    },
    {
      "cell_type": "code",
      "execution_count": 8,
      "metadata": {},
      "outputs": [
        {
          "name": "stdout",
          "output_type": "stream",
          "text": [
            "Computing P(g|c) with the Bayesian network:\n",
            "[0.76 0.24]\n"
          ]
        }
      ],
      "source": [
        "import numpy as np\n",
        "\n",
        "print(\"Computing P(g|c) with the Bayesian network:\")\n",
        "\n",
        "t, f = 0, 1\n",
        "P_C = np.array([0.5, 0.5])\n",
        "P_S_C = np.array([[0.1, 0.5],[0.9, 0.5]])\n",
        "P_R_C = np.array([[0.8, 0.1],[0.2, 0.9]])\n",
        "P_G_SR = np.array([[[0.95, 0.9],[0.9, 0.1]],[[0.05, 0.1],[0.1, 0.9]]])\n",
        "\n",
        "p = np.zeros(2)\n",
        "for r in range(2):\n",
        "    for s in range(2):\n",
        "        p += P_R_C[r,t] * P_S_C[s,t] * P_G_SR[:,r,s]\n",
        "\n",
        "a = np.sum(p)\n",
        "p /= a\n",
        "print(p)"
      ]
    },
    {
      "attachments": {},
      "cell_type": "markdown",
      "metadata": {},
      "source": [
        "### 3. Between rain and sprinkler, which one has the stronger causal effect on the wetness, $P(g | do(r))$ or $P(g | do(s))$ ?"
      ]
    },
    {
      "cell_type": "code",
      "execution_count": 9,
      "metadata": {},
      "outputs": [
        {
          "data": {
            "text/html": [
              "\n",
              "      <style>\n",
              "      .floating-box {\n",
              "      display: inline-block;\n",
              "      margin: 7px;\n",
              "      padding : 3px;\n",
              "      border: 0px solid transparent;  \n",
              "      valign:middle;\n",
              "      background-color: transparent;\n",
              "      }\n",
              "      </style>\n",
              "      <div class=\"floating-box\"><svg xmlns=\"http://www.w3.org/2000/svg\" xmlns:xlink=\"http://www.w3.org/1999/xlink\" width=\"161pt\" height=\"180pt\" viewBox=\"0.00 0.00 160.70 180.00\">\n",
              "<g id=\"graph0\" class=\"graph\" transform=\"scale(0.957447 0.957447) rotate(0) translate(4 184)\">\n",
              "<title>G</title>\n",
              "<!-- Cloudy -->\n",
              "<g id=\"node1\" class=\"node\">\n",
              "<title>Cloudy</title>\n",
              "<ellipse fill=\"#404040\" stroke=\"#4a4a4a\" cx=\"71.3\" cy=\"-162\" rx=\"37.89\" ry=\"18\"/>\n",
              "<text text-anchor=\"middle\" x=\"71.3\" y=\"-158.3\" font-family=\"Times New Roman,serif\" font-size=\"14.00\" fill=\"white\">Cloudy</text>\n",
              "</g>\n",
              "<!-- Rain -->\n",
              "<g id=\"node2\" class=\"node\">\n",
              "<title>Rain</title>\n",
              "<ellipse fill=\"#404040\" stroke=\"#4a4a4a\" cx=\"27.3\" cy=\"-90\" rx=\"27.1\" ry=\"18\"/>\n",
              "<text text-anchor=\"middle\" x=\"27.3\" y=\"-86.3\" font-family=\"Times New Roman,serif\" font-size=\"14.00\" fill=\"white\">Rain</text>\n",
              "</g>\n",
              "<!-- Cloudy&#45;&gt;Rain -->\n",
              "<g id=\"edge1\" class=\"edge\">\n",
              "<title>Cloudy-&gt;Rain</title>\n",
              "<path fill=\"none\" stroke=\"#4a4a4a\" d=\"M60.02,-144.94C54.74,-136.54 48.22,-126.16 42.33,-116.79\"/>\n",
              "<path fill=\"none\" stroke=\"#4a4a4a\" d=\"M61.72,-143.88C56.44,-135.48 49.91,-125.1 44.02,-115.73\"/>\n",
              "<polygon fill=\"#4a4a4a\" stroke=\"#4a4a4a\" points=\"45.63,-114.59 37.35,-107.99 39.71,-118.32 45.63,-114.59\"/>\n",
              "</g>\n",
              "<!-- Sprinkler -->\n",
              "<g id=\"node4\" class=\"node\">\n",
              "<title>Sprinkler</title>\n",
              "<ellipse fill=\"#404040\" stroke=\"#4a4a4a\" cx=\"116.3\" cy=\"-90\" rx=\"43.59\" ry=\"18\"/>\n",
              "<text text-anchor=\"middle\" x=\"116.3\" y=\"-86.3\" font-family=\"Times New Roman,serif\" font-size=\"14.00\" fill=\"white\">Sprinkler</text>\n",
              "</g>\n",
              "<!-- Cloudy&#45;&gt;Sprinkler -->\n",
              "<g id=\"edge3\" class=\"edge\">\n",
              "<title>Cloudy-&gt;Sprinkler</title>\n",
              "<path fill=\"none\" stroke=\"#4a4a4a\" d=\"M81.12,-143.87C86.44,-135.59 93,-125.38 98.96,-116.12\"/>\n",
              "<path fill=\"none\" stroke=\"#4a4a4a\" d=\"M82.8,-144.95C88.13,-136.67 94.69,-126.47 100.64,-117.2\"/>\n",
              "<polygon fill=\"#4a4a4a\" stroke=\"#4a4a4a\" points=\"103.25,-118.77 105.71,-108.47 97.36,-114.99 103.25,-118.77\"/>\n",
              "</g>\n",
              "<!-- GrassWet -->\n",
              "<g id=\"node3\" class=\"node\">\n",
              "<title>GrassWet</title>\n",
              "<ellipse fill=\"#404040\" stroke=\"#4a4a4a\" cx=\"71.3\" cy=\"-18\" rx=\"47.39\" ry=\"18\"/>\n",
              "<text text-anchor=\"middle\" x=\"71.3\" y=\"-14.3\" font-family=\"Times New Roman,serif\" font-size=\"14.00\" fill=\"white\">GrassWet</text>\n",
              "</g>\n",
              "<!-- Rain&#45;&gt;GrassWet -->\n",
              "<g id=\"edge2\" class=\"edge\">\n",
              "<title>Rain-&gt;GrassWet</title>\n",
              "<path fill=\"none\" stroke=\"#4a4a4a\" d=\"M36.44,-72.58C41.68,-64.23 48.25,-53.79 54.21,-44.31\"/>\n",
              "<path fill=\"none\" stroke=\"#4a4a4a\" d=\"M38.13,-73.65C43.38,-65.3 49.94,-54.85 55.9,-45.37\"/>\n",
              "<polygon fill=\"#4a4a4a\" stroke=\"#4a4a4a\" points=\"58.38,-47.13 60.74,-36.8 52.45,-43.4 58.38,-47.13\"/>\n",
              "</g>\n",
              "<!-- Sprinkler&#45;&gt;GrassWet -->\n",
              "<g id=\"edge4\" class=\"edge\">\n",
              "<title>Sprinkler-&gt;GrassWet</title>\n",
              "<path fill=\"none\" stroke=\"#4a4a4a\" d=\"M104.79,-72.95C99.55,-64.79 93.1,-54.76 87.21,-45.61\"/>\n",
              "<path fill=\"none\" stroke=\"#4a4a4a\" d=\"M106.47,-71.87C101.23,-63.71 94.78,-53.68 88.9,-44.52\"/>\n",
              "<polygon fill=\"#4a4a4a\" stroke=\"#4a4a4a\" points=\"90.55,-43.48 82.2,-36.96 84.66,-47.26 90.55,-43.48\"/>\n",
              "</g>\n",
              "</g>\n",
              "</svg><br><center><small><em>Causal Model</em></small></center></div><div class=\"floating-box\">$$\\begin{equation*}P( GrassWet \\mid \\hookrightarrow\\mkern-6.5muSprinkler) = \\sum_{Cloudy}{P\\left(GrassWet\\mid Cloudy,Sprinkler\\right) \\cdot P\\left(Cloudy\\right)}\\end{equation*}$$<br><center><small><em>Explanation : backdoor ['Cloudy'] found.</em></small></center></div><div class=\"floating-box\"><table style=\"border:1px solid black;\">\n",
              "<tr style='border:1px solid black;color:black;background-color:#808080'>\n",
              "      <th colspan='2'><center>GrassWet</center></th></tr>\n",
              "<tr><th style='border:1px solid black;border-bottom-style: double;color:black;background-color:#BBBBBB'>\n",
              "      <center>T</center></th><th style='border:1px solid black;border-bottom-style: double;color:black;background-color:#BBBBBB'>\n",
              "      <center>F</center></th></tr>\n",
              "<tr><td style='color:black;background-color:#88f564;text-align:right;'>0.9225</td><td style='color:black;background-color:#f58864;text-align:right;'>0.0775</td></tr>\n",
              "</table><br><center><small><em>Impact</em></small></center></div>"
            ],
            "text/plain": [
              "<IPython.core.display.HTML object>"
            ]
          },
          "metadata": {},
          "output_type": "display_data"
        }
      ],
      "source": [
        "cslnb.showCausalImpact(d1, 'GrassWet', doing='Sprinkler', values={'Sprinkler':'T'})"
      ]
    },
    {
      "cell_type": "code",
      "execution_count": 10,
      "metadata": {},
      "outputs": [
        {
          "name": "stdout",
          "output_type": "stream",
          "text": [
            "[0.9225 0.0775]\n",
            "Sprinkler wins!\n"
          ]
        }
      ],
      "source": [
        "ci3 = csl.causalImpact(d1, 'GrassWet', doing='Sprinkler', values={'Sprinkler':'T'})\n",
        "\n",
        "g_do_s = ci3[1].toarray()\n",
        "print(g_do_s)\n",
        "\n",
        "if (g_do_s[0] > g_do_r[0]): print(\"Sprinkler wins!\")\n",
        "else: print(\"Rain wins!\")"
      ]
    },
    {
      "attachments": {},
      "cell_type": "markdown",
      "metadata": {},
      "source": [
        "### 4. Compute the average causal effect (ACE) of the sprinkler on the wetness $g$."
      ]
    },
    {
      "cell_type": "code",
      "execution_count": 11,
      "metadata": {},
      "outputs": [
        {
          "name": "stdout",
          "output_type": "stream",
          "text": [
            "P(g|do(s)) = 0.9225\n",
            "P(g|do(not s)) = 0.46\n",
            "ACE = 0.46249999999999997\n"
          ]
        }
      ],
      "source": [
        "s_t = g_do_s[0]\n",
        "print(\"P(g|do(s)) =\", s_t)\n",
        "\n",
        "ci4 = csl.causalImpact(d1, 'GrassWet', doing='Sprinkler', values={'Sprinkler':'F'})\n",
        "\n",
        "g_do_s2 = ci4[1].toarray()\n",
        "s_f = g_do_s2[0]\n",
        "print(\"P(g|do(not s)) =\", s_f)\n",
        "\n",
        "ace = s_t - s_f\n",
        "print(\"ACE =\", ace)"
      ]
    }
  ],
  "metadata": {
    "colab": {
      "provenance": []
    },
    "kernelspec": {
      "display_name": "Python 3",
      "name": "python3"
    },
    "language_info": {
      "codemirror_mode": {
        "name": "ipython",
        "version": 3
      },
      "file_extension": ".py",
      "mimetype": "text/x-python",
      "name": "python",
      "nbconvert_exporter": "python",
      "pygments_lexer": "ipython3",
      "version": "3.10.4"
    }
  },
  "nbformat": 4,
  "nbformat_minor": 0
}
