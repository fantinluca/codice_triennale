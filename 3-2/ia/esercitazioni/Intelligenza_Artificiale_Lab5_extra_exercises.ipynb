{
  "cells": [
    {
      "cell_type": "markdown",
      "metadata": {
        "id": "5cdVfkvhWpt_"
      },
      "source": [
        "## EXERCISE 1: Weather's probability\n",
        "You are given a (fake) <a href=\"https://drive.google.com/file/d/1LjZLE9ozaHcBwiCl90mHaS1nXKcglfr4/view\">padua_weather.csv</a>\n",
        "of historical records for Padua's weather. The weather, which can be either rainy (= 1 in the dataset), misty (= 2), or sunny (= 3), is reported for each day of the week, for a whole year (52 weeks).\n",
        "\n",
        "After you formalised the problem (i.e. identify the random variables and necessary mathematical formulae), write a Python program that reads the dataset and computes the following:\n",
        "- probability of being sunny during the weekend (one or both days);\n",
        "- expected weather for each day of the week (*);\n",
        "- supposed you don't know which day of the week is today: although very unrealistic, how could you guess which day is today based only on the weather?\n",
        "\n",
        "(\\*) An expected value of, for example, 2.5 can be interpreted as \"a mix of misty and sunny weather\".\n",
        " \n",
        "\n"
      ]
    },
    {
      "cell_type": "code",
      "execution_count": 25,
      "metadata": {},
      "outputs": [
        {
          "name": "stdout",
          "output_type": "stream",
          "text": [
            "Prima domanda: P(X=3,weekend)=0.4423076923076923\n",
            "-----------------------------------------------\n",
            "Seconda domanda: \n",
            "Mon: 2.08\n",
            "Tue: 1.98\n",
            "Wed: 2.04\n",
            "Thu: 1.94\n",
            "Fri: 1.96\n",
            "Sat: 1.85\n",
            "Sun: 1.75\n",
            "-----------------------------------------------\n",
            "Terza domanda: \n",
            "Mon: rainy: 0.33; misty: 0.27; sunny: 0.40\n",
            "Tue: rainy: 0.37; misty: 0.29; sunny: 0.35\n",
            "Wed: rainy: 0.31; misty: 0.35; sunny: 0.35\n",
            "Thu: rainy: 0.37; misty: 0.33; sunny: 0.31\n",
            "Fri: rainy: 0.37; misty: 0.31; sunny: 0.33\n",
            "Sat: rainy: 0.38; misty: 0.38; sunny: 0.23\n",
            "Sun: rainy: 0.52; misty: 0.21; sunny: 0.27\n"
          ]
        }
      ],
      "source": [
        "# variables:\n",
        "# X: weather (values: {1,2,3})\n",
        "# D: day of the week (values: {1,2,3,4,5,6,7} / {day names})\n",
        "\n",
        "import csv\n",
        "import numpy as np\n",
        "\n",
        "weather_names = ['rainy', 'misty', 'sunny']\n",
        "\n",
        "# get and organize weather data\n",
        "day_names = list()\n",
        "weather_data = dict()\n",
        "week_count = 0\n",
        "with open('padua_weather.csv', 'r') as csvfile:\n",
        "    csvreader = csv.reader(csvfile)\n",
        "    day_names = next(csvreader)\n",
        "    weather_data = {day:list() for day in day_names}\n",
        "    for row in csvreader:\n",
        "        for i in range(0,7):\n",
        "            weather_data[day_names[i]].append(int(row[i]))\n",
        "\n",
        "week_count = len(weather_data[day_names[0]])\n",
        "\n",
        "# question 1: we need P(X=3, weekend)\n",
        "P_D = {day:(1/6) for day in day_names}\n",
        "P_3_and_w = 0\n",
        "N_3_w = 0\n",
        "for i in range(0, week_count):\n",
        "    if weather_data[day_names[5]][i] == 3 or weather_data[day_names[6]][i] == 3: N_3_w += 1\n",
        "P_3_and_w = N_3_w / week_count\n",
        "\n",
        "print(\"Prima domanda: P(X=3,weekend)=\" + str(P_3_and_w))\n",
        "print(\"-----------------------------------------------\")\n",
        "\n",
        "# question 2: expectance of X for D\n",
        "\n",
        "# occurrences of every weather for every day: dict with day as index and list with occ. of weathers as value\n",
        "weather_for_days = dict()\n",
        "for day in day_names:   \n",
        "    weather_for_days[day] = list()\n",
        "    for j in range(1,4):\n",
        "        weather_for_days[day].append(weather_data[day].count(j))\n",
        "\n",
        "# P(X=weather | D=day): dict with day d as index and list with P(X=weather | d) as value\n",
        "P_X_D = dict()\n",
        "for day in day_names:\n",
        "    P_X_D[day] = [(weather / week_count) for weather in weather_for_days[day]]\n",
        "\n",
        "# weather expectance given a certain day\n",
        "exp_D = dict()\n",
        "for day in day_names:\n",
        "    exp_D[day] = sum((j+1) * P_X_D[day][j] for j in range(0,3))\n",
        "\n",
        "print(\"Seconda domanda: \")\n",
        "for (day, exp) in exp_D.items():\n",
        "    print(\": \".join((day[0:3], \"{:.2f}\".format(exp))))\n",
        "print(\"-----------------------------------------------\")\n",
        "\n",
        "# question 3: we need P(D=day | X=weather), already contained in P_D_X\n",
        "print(\"Terza domanda: \")\n",
        "for (day, p_x_d) in P_X_D.items():\n",
        "    p_str = day[0:3] + \": \"\n",
        "    for i in range(0, 3):\n",
        "        p_str += \": \".join((weather_names[i], \"{:.2f}\".format(p_x_d[i])))\n",
        "        if (i != 2): p_str += \"; \"\n",
        "    print(p_str)"
      ]
    },
    {
      "cell_type": "markdown",
      "metadata": {
        "id": "GmiY-cDUhmhE"
      },
      "source": [
        "## EXERCISE 2: Broad Street cholera outbreak\n",
        "\n",
        "The following is a simplified version of an example in Judea Pearl's *The Book of Why*. It refers to a case of cholera epidemic, caused by contaminated water, which killed hundreds of people in London between 1853 and 1854. The diagram below illustrates some of the key factors explaining this epidemic, in particular:\n",
        "- $X$ indicates whether the water company's intake was downstream of the London's sewers;\n",
        "- $W$ indicates whether the water was contaminated or not;\n",
        "- $Z$ indicates the presence of other external factors (e.g. poverty, miasma, etc.);\n",
        "- $Y$ indicates the outbreak of cholera.\n",
        "\n",
        "<img src='https://drive.google.com/uc?id=10O10x_nuuxF55rqRk0TpanHV_7Q819MA'>\n",
        "\n",
        "(please note the probabilities in the diagram are fake)\n",
        "\n",
        "> - Formalise the problem using opportune mathematical notations and derive an expression for computing the probability distribution of the cholera given that the water company's intake is upstream (i.e. what is the query? how can it be decomposed?)\n",
        "> - Write a Python program that computes the actual probabilities of the above distribution using the information from the given CPTs."
      ]
    },
    {
      "attachments": {},
      "cell_type": "markdown",
      "metadata": {},
      "source": [
        "$$ \\textbf{P}(Y | \\neg x) = \\alpha \\cdot \\textbf{P} (Y, \\neg x) = \\alpha \\cdot  \\sum_{W,Z} \\textbf{P}(Y, \\neg x, W, Z) $$\n",
        "$$ \\textbf{P}(Y, \\neg x, W, Z) = P(\\neg x) \\cdot \\textbf{P}(Z) \\cdot \\textbf{P}(W | \\neg x, Z) \\cdot \\textbf{P}(Y | W, Z) $$\n",
        "$$ \\textbf{P}(Y | \\neg x) = \\alpha \\cdot P(\\neg x) \\cdot \\sum_{Z} P(Z) \\cdot \\sum_{W} \\textbf{P}(W | \\neg x, Z) \\cdot \\textbf{P}(Y | W, Z) $$"
      ]
    },
    {
      "cell_type": "code",
      "execution_count": 29,
      "metadata": {},
      "outputs": [],
      "source": [
        "import numpy as np\n",
        "t, f = 0, 1\n",
        "\n",
        "# distribution of X and Z\n",
        "P_X = np.array([0.5, 0.5])\n",
        "P_Z = np.array([0.25, 0.75])\n",
        "\n",
        "P_W = np.array([[[0.90, 0.85], [0.10, 0.02]], [[0.10, 0.15], [0.90, 0.98]]])\n",
        "#              W (X,Z) (X,nZ)  (nX,Z)(nX,nZ)  nW(X,Z) (X,nZ) (nX,Z)(nX,nZ)         \n",
        "\n",
        "P_Y = np.array([[[0.80, 0.75], [0.15, 0.05]], [[0.20, 0.25], [0.85, 0.95]]])\n",
        "#              Y (Z,W) (Z,nW)  (nZ,W)(nZ,nW)  nY(Z,W) (Z,nW) (nZ,W)(nZ,nW)"
      ]
    },
    {
      "attachments": {},
      "cell_type": "markdown",
      "metadata": {},
      "source": [
        "$$ \\textbf{P}(Y | \\neg x) = \\alpha \\cdot P(\\neg x) \\cdot \\sum_{Z} P(Z) \\cdot \\sum_{W} \\textbf{P}(W | \\neg x, Z) \\cdot \\textbf{P}(Y | W, Z) $$"
      ]
    },
    {
      "cell_type": "code",
      "execution_count": 32,
      "metadata": {},
      "outputs": [
        {
          "name": "stdout",
          "output_type": "stream",
          "text": [
            "P(Y|¬x): [0.10175 0.89825]\n"
          ]
        }
      ],
      "source": [
        "aux = 0\n",
        "\n",
        "for w in range(2):\n",
        "    for z in range(2):\n",
        "        aux += P_Z[z] * P_W[w,f,z] * P_Y[:,w,z]\n",
        "\n",
        "aux = aux * P_X[f]\n",
        "s = sum(aux)\n",
        "aux = aux / s\n",
        "print(\"P(Y|¬x):\", aux)"
      ]
    }
  ],
  "metadata": {
    "colab": {
      "provenance": []
    },
    "kernelspec": {
      "display_name": "Python 3",
      "language": "python",
      "name": "python3"
    },
    "language_info": {
      "codemirror_mode": {
        "name": "ipython",
        "version": 3
      },
      "file_extension": ".py",
      "mimetype": "text/x-python",
      "name": "python",
      "nbconvert_exporter": "python",
      "pygments_lexer": "ipython3",
      "version": "3.10.4"
    },
    "vscode": {
      "interpreter": {
        "hash": "d993fe0a448f0c30698f8adb2f64f9422480e7412d453b86835f1b2589001a80"
      }
    }
  },
  "nbformat": 4,
  "nbformat_minor": 0
}
