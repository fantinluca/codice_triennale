{
  "cells": [
    {
      "cell_type": "markdown",
      "metadata": {
        "id": "_DvBIcx2F87I"
      },
      "source": [
        "---\n",
        "\n",
        "## EXERCISE1: Burglary network\n",
        "\n",
        "Implement the *Prior Sampling* algorithm to do approximate inference on last week's Burglary network.\n",
        "\n",
        "<img src='https://drive.google.com/uc?id=11xqbchd4TCFSzdLVxNgr4SoeGfrSoqGO'>\n",
        "\n",
        "Verify that the algorithm can correctly approximate the probability $P(j, m, a, \\neg b, \\neg e) = 0.00063$\n",
        "\n",
        "Try different numbers of samples (e.g. $N = 10, 100, 1000, 10000$) and compare the results.\n",
        "\n",
        "---"
      ]
    },
    {
      "cell_type": "code",
      "execution_count": 28,
      "metadata": {},
      "outputs": [
        {
          "name": "stdout",
          "output_type": "stream",
          "text": [
            "Con 10 campioni: 0.0\n",
            "Con 100 campioni: 0.0\n",
            "Con 1000 campioni: 0.002\n",
            "Con 10000 campioni: 0.0009\n",
            "Con 100000 campioni: 0.0007\n",
            "Con 1000000 campioni: 0.000681\n"
          ]
        }
      ],
      "source": [
        "import numpy as np\n",
        "import random as rnd\n",
        "\n",
        "t, f = 0, 1\n",
        "\n",
        "def gen_sample(p_dist, parents = []):\n",
        "    assert len(parents) < len(p_dist.shape)\n",
        "    if rnd.random() < p_dist[t][tuple(parents)]:\n",
        "        return t\n",
        "    return f\n",
        "\n",
        "def parents(x):\n",
        "    return [val[i] for i in par[x]]\n",
        "\n",
        "P_B = np.array([0.001, 0.999])\n",
        "P_E = np.array([0.002, 0.998])\n",
        "# 1st dimension: A; 2nd dimension: B; 3rd dimensione: E\n",
        "P_A_BE = np.array([[[0.95, 0.94], [0.29, 0.001]], [[0.05, 0.06], [0.71, 0.999]]])\n",
        "P_J_A = np.array([[0.90, 0.05], [0.10, 0.95]])\n",
        "P_M_A = np.array([[0.70, 0.01], [0.30, 0.99]])\n",
        "\n",
        "var = ['B', 'E', 'A', 'J', 'M']\n",
        "prd = {'B':P_B, 'E':P_E, 'A':P_A_BE, 'J':P_J_A, 'M':P_M_A}\n",
        "par = {'B':[], 'E':[], 'A':['B', 'E'], 'J':['A'], 'M':['A']}\n",
        "val = {'B':f, 'E':f, 'A':f, 'J':f, 'M':f}\n",
        "\n",
        "events = []\n",
        "\n",
        "for N in [10, 100, 1000, 10000, 100000, 1000000]:\n",
        "    for n in range(N):\n",
        "        for x in var:\n",
        "            val[x] = gen_sample(prd[x], parents(x))\n",
        "        e = ['f' if val[x] else 't' for x in var]\n",
        "        if e == ['f', 'f', 't', 't', 't']: events.append(e)\n",
        "\n",
        "    #print(\"Primo evento: \", events[0])\n",
        "    p = len(events) / N\n",
        "    print(\"Con\", N, \"campioni:\", p)"
      ]
    },
    {
      "cell_type": "markdown",
      "metadata": {
        "id": "e_xs0D_-zPqe"
      },
      "source": [
        "---\n",
        "\n",
        "## EXERCISE2: Pomegranate for Day 2\n",
        "\n",
        "Use <tt>pomegranate</tt> to calculate the filtered probability of rain on Day 2 when we see an umbrella on Day 1 and Day 2.\n",
        "\n",
        "What is the filtered probability of rain on Day 2 when we see <tt>not umbrella</tt> on Day 1?\n",
        "\n",
        "How about if we just have no information about Umbrellas on Day 1 (i.e., only that rain on Day 2)?"
      ]
    }
  ],
  "metadata": {
    "colab": {
      "provenance": []
    },
    "kernelspec": {
      "display_name": "Python 3",
      "name": "python3"
    },
    "language_info": {
      "codemirror_mode": {
        "name": "ipython",
        "version": 3
      },
      "file_extension": ".py",
      "mimetype": "text/x-python",
      "name": "python",
      "nbconvert_exporter": "python",
      "pygments_lexer": "ipython3",
      "version": "3.10.4"
    }
  },
  "nbformat": 4,
  "nbformat_minor": 0
}
