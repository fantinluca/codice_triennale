{
  "cells": [
    {
      "attachments": {},
      "cell_type": "markdown",
      "metadata": {
        "id": "AmvPd8zUKQTf"
      },
      "source": [
        "**Laboratory Lecture 7**\n",
        "\n",
        "## EXAMPLE: Causal effect of rain on wet grass\n",
        "\n",
        "Let's consider again our Sprinkler network, assuming this is a reliable description of the causal relationships between its four variables:\n",
        "\n",
        "\n",
        "<img src='https://drive.google.com/uc?id=1C2vyT2X19C_IekWf3rELuF4SumvJxo2b'>\n",
        "\n",
        "In this case we want to estimate the causal effects of the rain on the \"wetness\" of the grass.\n",
        "\n",
        "Note that it wouldn't be physically possible to modify the rain variable $R$. Yet, we can use probabilities from observational data of the weather to compute its causal effect \"as if\" we were able to intervene on it.\n",
        "\n",
        "To this end, we can compute the effect of the intervention $P(G = true | do(R = true))$, or simply $P(g | do(r))$, by using the adjustment formula for the only parent of $R$, which is $C$:\n",
        "\n",
        "$$ P(g | do(r)) = \\sum_{z \\in C} P(g | r, z) P(z) \\\\ = P(g | r, c) P(c) + P(g | r, \\neg c) P(\\neg c) $$\n",
        "\n",
        "The probability distribution ${\\bf P}(C) = \\langle P(c), P(\\neg c) \\rangle$ is already given by the network. The conditional distribution ${\\bf P}(G | r, c) = \\langle P(g | r, c), P(\\neg g | r, c)\\rangle$ can be computed as follows:\n",
        "\n",
        "$$\n",
        "{\\bf P}(G | r, c) = \\dfrac{{\\bf P}(G, r, c)}{P(r, c)} = \\alpha {\\bf P}(G, r, c) = \\alpha \\sum_s {\\bf P}(G, r, c, s) \\\\\n",
        "= \\alpha \\sum_s P(c) P(r|c) P(s|c) {\\bf P}(G | r, s) \\\\\n",
        "= \\alpha P(c) P(r|c) \\sum_s  P(s|c) {\\bf P}(G | r, s) \\\\\n",
        "= \\alpha' \\sum_s  P(s|c) {\\bf P}(G | r, s) \\\\\n",
        "= \\alpha' \\big[ P(s|c) {\\bf P}(G | r, s) + P(\\neg s|c) {\\bf P}(G | r, \\neg s) \\big]\n",
        "$$\n",
        "\n",
        "where in the last steps we moved the product $P(c) P(r|c)$ within the normalisation factor $\\alpha'$.\n",
        "\n",
        "Substituting the values from the network's CPTs, we get the following:\n",
        "\n",
        "$\n",
        "{\\bf P}(G | r, c) = \\alpha' \\big[ 0.1 \\times \\langle 0.95, 0.05 \\rangle + 0.9 \\times \\langle 0.90, 0.10 \\rangle \\big] = \\langle 0.905, 0.095 \\rangle\n",
        "$\n",
        "\n",
        "If we do the same for the condition $\\neg c$, we obtain the following distribution:\n",
        "\n",
        "$\n",
        "{\\bf P}(G | r, \\neg c) = \\alpha' \\big[ 0.5 \\times \\langle 0.95, 0.05 \\rangle + 0.5 \\times \\langle 0.90, 0.10 \\rangle \\big] = \\langle 0.925, 0.075 \\rangle\n",
        "$\n",
        "\n",
        "Finally, we use the calculated values, $P(g | r, c) = 0.905$ and $P(g | r, \\neg c) = 0.925$, in the previous adjustment formula and obtain the following:\n",
        "\n",
        "$\n",
        "P(g | do(r)) = 0.905 \\times 0.5 + 0.925 \\times 0.5 = 0.915\n",
        "$\n",
        "\n",
        "which is our causal effect of the intervention $R = true$ on the wetness $G = true$.\n",
        "\n",
        "\n"
      ]
    },
    {
      "cell_type": "markdown",
      "metadata": {
        "id": "2qY8fRnodWRD"
      },
      "source": [
        "## EXAMPLE: Simpson’s Paradox\n",
        "\n",
        "This notebook follows the famous example from Causality (Pearl, 2009) and the documentation in the pyAgrum website. "
      ]
    },
    {
      "cell_type": "code",
      "execution_count": 34,
      "metadata": {
        "colab": {
          "base_uri": "https://localhost:8080/"
        },
        "id": "kkoIaLtPdT26",
        "outputId": "dcc57247-1869-4b72-bbc6-11179c22c0ce"
      },
      "outputs": [],
      "source": [
        "from IPython.display import display, Math, Latex\n",
        "\n",
        "import pyAgrum as gum\n",
        "import pyAgrum.lib.notebook as gnb\n",
        "import pyAgrum.causal as csl\n",
        "import pyAgrum.causal.notebook as cslnb"
      ]
    },
    {
      "cell_type": "markdown",
      "metadata": {
        "id": "treCJzzleFam"
      },
      "source": [
        "In a statistical study about a drug, we try to evaluate the latter’s efficiency among a population of men and women. Let’s note: - Drug\n",
        " : drug taking - Patient\n",
        " : cured patient - Gender\n",
        " : patient’s gender\n",
        "\n",
        " The model from the observed date is as follow :"
      ]
    },
    {
      "cell_type": "code",
      "execution_count": 35,
      "metadata": {
        "colab": {
          "base_uri": "https://localhost:8080/",
          "height": 292
        },
        "id": "SeuwhDateRCT",
        "outputId": "e48da456-bc1b-46cf-9587-ebb5b6e578ec"
      },
      "outputs": [
        {
          "data": {
            "text/html": [
              "\n",
              "      <style>\n",
              "      .floating-box {\n",
              "      display: inline-block;\n",
              "      margin: 7px;\n",
              "      padding : 3px;\n",
              "      border: 0px solid transparent;  \n",
              "      valign:middle;\n",
              "      background-color: transparent;\n",
              "      }\n",
              "      </style>\n",
              "      <div class=\"floating-box\"><svg xmlns=\"http://www.w3.org/2000/svg\" xmlns:xlink=\"http://www.w3.org/1999/xlink\" width=\"102pt\" height=\"188pt\" viewBox=\"0.00 0.00 102.29 188.00\">\n",
              "<g id=\"graph0\" class=\"graph\" transform=\"scale(1 1) rotate(0) translate(4 184)\">\n",
              "<title>G</title>\n",
              "<!-- Drug -->\n",
              "<g id=\"node1\" class=\"node\">\n",
              "<title>Drug</title>\n",
              "<g id=\"a_node1\"><a xlink:title=\"(1) Drug\">\n",
              "<ellipse fill=\"#404040\" stroke=\"black\" cx=\"28.6\" cy=\"-90\" rx=\"28.7\" ry=\"18\"/>\n",
              "<text text-anchor=\"middle\" x=\"28.6\" y=\"-86.3\" font-family=\"Times New Roman,serif\" font-size=\"14.00\" fill=\"white\">Drug</text>\n",
              "</a>\n",
              "</g>\n",
              "</g>\n",
              "<!-- Patient -->\n",
              "<g id=\"node3\" class=\"node\">\n",
              "<title>Patient</title>\n",
              "<g id=\"a_node3\"><a xlink:title=\"(2) Patient\">\n",
              "<ellipse fill=\"#404040\" stroke=\"black\" cx=\"56.6\" cy=\"-18\" rx=\"35.19\" ry=\"18\"/>\n",
              "<text text-anchor=\"middle\" x=\"56.6\" y=\"-14.3\" font-family=\"Times New Roman,serif\" font-size=\"14.00\" fill=\"white\">Patient</text>\n",
              "</a>\n",
              "</g>\n",
              "</g>\n",
              "<!-- Drug&#45;&gt;Patient -->\n",
              "<g id=\"edge3\" class=\"edge\">\n",
              "<title>Drug-&gt;Patient</title>\n",
              "<g id=\"a_edge3\"><a xlink:title=\"1 → 2\">\n",
              "<path fill=\"none\" stroke=\"#4a4a4a\" d=\"M35.38,-72.05C38.51,-64.23 42.3,-54.75 45.81,-45.98\"/>\n",
              "<polygon fill=\"#4a4a4a\" stroke=\"#4a4a4a\" points=\"49.42,-47.37 49.88,-36.79 42.92,-44.77 49.42,-47.37\"/>\n",
              "</a>\n",
              "</g>\n",
              "</g>\n",
              "<!-- Gender -->\n",
              "<g id=\"node2\" class=\"node\">\n",
              "<title>Gender</title>\n",
              "<g id=\"a_node2\"><a xlink:title=\"(0) Gender\">\n",
              "<ellipse fill=\"#404040\" stroke=\"black\" cx=\"56.6\" cy=\"-162\" rx=\"37.89\" ry=\"18\"/>\n",
              "<text text-anchor=\"middle\" x=\"56.6\" y=\"-158.3\" font-family=\"Times New Roman,serif\" font-size=\"14.00\" fill=\"white\">Gender</text>\n",
              "</a>\n",
              "</g>\n",
              "</g>\n",
              "<!-- Gender&#45;&gt;Drug -->\n",
              "<g id=\"edge1\" class=\"edge\">\n",
              "<title>Gender-&gt;Drug</title>\n",
              "<g id=\"a_edge1\"><a xlink:title=\"0 → 1\">\n",
              "<path fill=\"none\" stroke=\"#4a4a4a\" d=\"M49.82,-144.05C46.69,-136.23 42.9,-126.75 39.39,-117.98\"/>\n",
              "<polygon fill=\"#4a4a4a\" stroke=\"#4a4a4a\" points=\"42.28,-116.77 35.31,-108.79 35.78,-119.37 42.28,-116.77\"/>\n",
              "</a>\n",
              "</g>\n",
              "</g>\n",
              "<!-- Gender&#45;&gt;Patient -->\n",
              "<g id=\"edge2\" class=\"edge\">\n",
              "<title>Gender-&gt;Patient</title>\n",
              "<g id=\"a_edge2\"><a xlink:title=\"0 → 2\">\n",
              "<path fill=\"none\" stroke=\"#4a4a4a\" d=\"M60.66,-143.93C62.9,-133.6 65.46,-120.12 66.6,-108 68.09,-92.07 68.09,-87.93 66.6,-72 65.83,-63.76 64.4,-54.9 62.85,-46.82\"/>\n",
              "<polygon fill=\"#4a4a4a\" stroke=\"#4a4a4a\" points=\"66.09,-46.17 60.66,-37.07 59.23,-47.57 66.09,-46.17\"/>\n",
              "</a>\n",
              "</g>\n",
              "</g>\n",
              "</g>\n",
              "</svg></div><div class=\"floating-box\"><table style=\"border:1px solid black;\">\n",
              "<tr style='border:1px solid black;color:black;background-color:#808080'>\n",
              "      <th colspan='2'><center>Gender</center></th></tr>\n",
              "<tr><th style='border:1px solid black;border-bottom-style: double;color:black;background-color:#BBBBBB'>\n",
              "      <center>F</center></th><th style='border:1px solid black;border-bottom-style: double;color:black;background-color:#BBBBBB'>\n",
              "      <center>M</center></th></tr>\n",
              "<tr><td style='color:black;background-color:#bfbf64;text-align:right;'>0.5000</td><td style='color:black;background-color:#bfbf64;text-align:right;'>0.5000</td></tr>\n",
              "</table></div><div class=\"floating-box\"><table style=\"border:1px solid black;\">\n",
              "<tr><th colspan='1'></th>\n",
              "      <th colspan='2' style='border:1px solid black;color:black;background-color:#808080;'><center>Drug</center>\n",
              "      </th></tr>\n",
              "<tr><th style='border:1px solid black;color:black;background-color:#808080'><center>Gender</center></th><th style='border:1px solid black;border-bottom-style: double;color:black;background-color:#BBBBBB'>\n",
              "      <center>Without</center></th><th style='border:1px solid black;border-bottom-style: double;color:black;background-color:#BBBBBB'>\n",
              "      <center>With</center></th></tr>\n",
              "<tr><th style='border:1px solid black;color:black;background-color:#BBBBBB'><center>F</center></th><td style='color:black;background-color:#df9f64;text-align:right;'>0.2500</td><td style='color:black;background-color:#9fdf64;text-align:right;'>0.7500</td></tr>\n",
              "<tr><th style='border:1px solid black;color:black;background-color:#BBBBBB'><center>M</center></th><td style='color:black;background-color:#9fdf64;text-align:right;'>0.7500</td><td style='color:black;background-color:#df9f64;text-align:right;'>0.2500</td></tr>\n",
              "</table></div><div class=\"floating-box\"><table style=\"border:1px solid black;\">\n",
              "<tr><th colspan='2'></th>\n",
              "      <th colspan='2' style='border:1px solid black;color:black;background-color:#808080;'><center>Patient</center>\n",
              "      </th></tr>\n",
              "<tr><th style='border:1px solid black;color:black;background-color:#808080'><center>Gender</center></th><th style='border:1px solid black;color:black;background-color:#808080'><center>Drug</center></th><th style='border:1px solid black;border-bottom-style: double;color:black;background-color:#BBBBBB'>\n",
              "      <center>Sick</center></th><th style='border:1px solid black;border-bottom-style: double;color:black;background-color:#BBBBBB'>\n",
              "      <center>Healed</center></th></tr>\n",
              "<tr><th style='border:1px solid black;color:black;background-color:#BBBBBB;' rowspan = '2'>\n",
              "            <center>F</center></th><th style='border:1px solid black;color:black;background-color:#BBBBBB'><center>Without</center></th><td style='color:black;background-color:#e59864;text-align:right;'>0.2000</td><td style='color:black;background-color:#98e564;text-align:right;'>0.8000</td></tr>\n",
              "<tr><th style='border:1px solid black;color:black;background-color:#BBBBBB'><center>With</center></th><td style='color:black;background-color:#d8a564;text-align:right;'>0.3000</td><td style='color:black;background-color:#a5d864;text-align:right;'>0.7000</td></tr>\n",
              "<tr><th style='border:1px solid black;color:black;background-color:#BBBBBB;' rowspan = '2'>\n",
              "            <center>M</center></th><th style='border:1px solid black;color:black;background-color:#BBBBBB'><center>Without</center></th><td style='color:black;background-color:#b2cb64;text-align:right;'>0.6000</td><td style='color:black;background-color:#cbb264;text-align:right;'>0.4000</td></tr>\n",
              "<tr><th style='border:1px solid black;color:black;background-color:#BBBBBB'><center>With</center></th><td style='color:black;background-color:#98e564;text-align:right;'>0.8000</td><td style='color:black;background-color:#e59864;text-align:right;'>0.2000</td></tr>\n",
              "</table></div>"
            ],
            "text/plain": [
              "<IPython.core.display.HTML object>"
            ]
          },
          "metadata": {},
          "output_type": "display_data"
        }
      ],
      "source": [
        "m1 = gum.fastBN(\"Gender{F|M}->Drug{Without|With}->Patient{Sick|Healed}<-Gender\")\n",
        "\n",
        "m1.cpt(\"Gender\")[:]=[0.5,0.5]\n",
        "m1.cpt(\"Drug\")[:]=[[0.25,0.75],  #Gender=F\n",
        "                   [0.75,0.25]]  #Gender=M\n",
        "\n",
        "m1.cpt(\"Patient\")[{'Drug':'Without','Gender':'F'}]=[0.2,0.8] #No Drug, Male -> healed in 0.8 of cases\n",
        "m1.cpt(\"Patient\")[{'Drug':'Without','Gender':'M'}]=[0.6,0.4] #No Drug, Female -> healed in 0.4 of cases\n",
        "m1.cpt(\"Patient\")[{'Drug':'With','Gender':'F'}]=[0.3,0.7] #Drug, Male -> healed 0.7 of cases\n",
        "m1.cpt(\"Patient\")[{'Drug':'With','Gender':'M'}]=[0.8,0.2] #Drug, Female -> healed in 0.2 of cases\n",
        "gnb.flow.row(m1,m1.cpt(\"Gender\"),m1.cpt(\"Drug\"),m1.cpt(\"Patient\"))"
      ]
    },
    {
      "cell_type": "code",
      "execution_count": 36,
      "metadata": {
        "colab": {
          "base_uri": "https://localhost:8080/",
          "height": 243
        },
        "id": "6TF8KLPyekXA",
        "outputId": "2ff3822d-eae1-425a-cd90-bade64668de7"
      },
      "outputs": [
        {
          "data": {
            "text/html": [
              "<table style=\"border-style: hidden; border-collapse: collapse;\" width=\"100%\"><tr><td style=\"border-top:hidden;border-bottom:hidden;vertical-align:middle;\"><div align=\"center\" style=\"vertical-align:middle;\"><table style=\"border:1px solid black;\">\n",
              "<tr style='border:1px solid black;color:black;background-color:#808080'>\n",
              "      <th colspan='2'><center>Drug</center></th></tr>\n",
              "<tr><th style='border:1px solid black;border-bottom-style: double;color:black;background-color:#BBBBBB'>\n",
              "      <center>Without</center></th><th style='border:1px solid black;border-bottom-style: double;color:black;background-color:#BBBBBB'>\n",
              "      <center>With</center></th></tr>\n",
              "<tr><td style='text-align:right;'>0.5000</td><td style='text-align:right;'>0.5750</td></tr>\n",
              "</table><br><small><i>$P(Patient = Healed \\mid Drug )$<br/>Taking $Drug$ is observed as efficient to cure</i></small></div></td><td style=\"border-top:hidden;border-bottom:hidden;vertical-align:middle;\"><div align=\"center\" style=\"vertical-align:middle;\"><table style=\"border:1px solid black;\">\n",
              "<tr style='border:1px solid black;color:black;background-color:#808080'>\n",
              "      <th colspan='2'><center>Drug</center></th></tr>\n",
              "<tr><th style='border:1px solid black;border-bottom-style: double;color:black;background-color:#BBBBBB'>\n",
              "      <center>Without</center></th><th style='border:1px solid black;border-bottom-style: double;color:black;background-color:#BBBBBB'>\n",
              "      <center>With</center></th></tr>\n",
              "<tr><td style='text-align:right;'>0.8000</td><td style='text-align:right;'>0.7000</td></tr>\n",
              "</table><br><small><i>$P(Patient = Healed \\mid Gender=F,Drug)$<br/>except if the $gender$ of the patient is female</i></small></div></td><td style=\"border-top:hidden;border-bottom:hidden;vertical-align:middle;\"><div align=\"center\" style=\"vertical-align:middle;\"><table style=\"border:1px solid black;\">\n",
              "<tr style='border:1px solid black;color:black;background-color:#808080'>\n",
              "      <th colspan='2'><center>Drug</center></th></tr>\n",
              "<tr><th style='border:1px solid black;border-bottom-style: double;color:black;background-color:#BBBBBB'>\n",
              "      <center>Without</center></th><th style='border:1px solid black;border-bottom-style: double;color:black;background-color:#BBBBBB'>\n",
              "      <center>With</center></th></tr>\n",
              "<tr><td style='text-align:right;'>0.4000</td><td style='text-align:right;'>0.2000</td></tr>\n",
              "</table><br><small><i>$P(Patient = Healed \\mid Gender=M,Drug)$<br/>... or male.</i></small></div></td></tr></table>"
            ],
            "text/plain": [
              "<IPython.core.display.HTML object>"
            ]
          },
          "metadata": {},
          "output_type": "display_data"
        }
      ],
      "source": [
        "def getCuredObservedProba(m1,evs):\n",
        "    evs0=dict(evs)\n",
        "    evs1=dict(evs)\n",
        "    evs0[\"Drug\"]='Without' \n",
        "    evs1[\"Drug\"]='With'\n",
        "    \n",
        "    return gum.Potential().add(m1.variableFromName(\"Drug\")).fillWith([\n",
        "            gum.getPosterior(m1,target=\"Patient\",evs=evs0)[1],\n",
        "            gum.getPosterior(m1,target=\"Patient\",evs=evs1)[1]\n",
        "        ])\n",
        "    \n",
        "\n",
        "gnb.sideBySide(getCuredObservedProba(m1,{}),\n",
        "               getCuredObservedProba(m1,{'Gender':'F'}),\n",
        "               getCuredObservedProba(m1,{'Gender':'M'}),\n",
        "               captions=[\"$P(Patient = Healed \\mid Drug )$<br/>Taking $Drug$ is observed as efficient to cure\",\n",
        "                         \"$P(Patient = Healed \\mid Gender=F,Drug)$<br/>except if the $gender$ of the patient is female\",\n",
        "                         \"$P(Patient = Healed \\mid Gender=M,Drug)$<br/>... or male.\"])"
      ]
    },
    {
      "attachments": {},
      "cell_type": "markdown",
      "metadata": {
        "id": "7TDuk_m0et5a"
      },
      "source": [
        "Those results form a paradox called Simpson paradox :\n",
        "\n",
        "$$\n",
        "P(C | \\neg D) = 0.5 < P(C |D) = 0.575\\\\\n",
        "P(C | \\neg D, G = Male) = 0.8 > P(C |D, G= Male) = 0.7\\\\\n",
        "P(C | \\neg D, G = Female) = 0.4 > P(C |D, G= Female) = 0.2\\\\\n",
        "$$\n",
        "\n",
        "Actually, giving a drug is not an observation in our model but rather an intervention. What if we use intervention instead of observation ?"
      ]
    },
    {
      "cell_type": "markdown",
      "metadata": {
        "id": "fcPScjhHgHeO"
      },
      "source": [
        "How to compute causal impacts on the patient’s health ?\n",
        "We propose this causal model."
      ]
    },
    {
      "cell_type": "code",
      "execution_count": 37,
      "metadata": {
        "colab": {
          "base_uri": "https://localhost:8080/",
          "height": 261
        },
        "id": "rJzNl2m2gNEC",
        "outputId": "75b40185-9380-4fbd-ed0c-233f8ad671fe"
      },
      "outputs": [
        {
          "data": {
            "image/svg+xml": [
              "<svg xmlns=\"http://www.w3.org/2000/svg\" xmlns:xlink=\"http://www.w3.org/1999/xlink\" width=\"98pt\" height=\"180pt\" viewBox=\"0.00 0.00 97.94 180.00\">\n",
              "<g id=\"graph0\" class=\"graph\" transform=\"scale(0.957447 0.957447) rotate(0) translate(4 184)\">\n",
              "<title>G</title>\n",
              "<!-- Gender -->\n",
              "<g id=\"node1\" class=\"node\">\n",
              "<title>Gender</title>\n",
              "<ellipse fill=\"#404040\" stroke=\"#4a4a4a\" cx=\"56.6\" cy=\"-162\" rx=\"37.89\" ry=\"18\"/>\n",
              "<text text-anchor=\"middle\" x=\"56.6\" y=\"-158.3\" font-family=\"Times New Roman,serif\" font-size=\"14.00\" fill=\"white\">Gender</text>\n",
              "</g>\n",
              "<!-- Drug -->\n",
              "<g id=\"node2\" class=\"node\">\n",
              "<title>Drug</title>\n",
              "<ellipse fill=\"#404040\" stroke=\"#4a4a4a\" cx=\"28.6\" cy=\"-90\" rx=\"28.7\" ry=\"18\"/>\n",
              "<text text-anchor=\"middle\" x=\"28.6\" y=\"-86.3\" font-family=\"Times New Roman,serif\" font-size=\"14.00\" fill=\"white\">Drug</text>\n",
              "</g>\n",
              "<!-- Gender&#45;&gt;Drug -->\n",
              "<g id=\"edge1\" class=\"edge\">\n",
              "<title>Gender-&gt;Drug</title>\n",
              "<path fill=\"none\" stroke=\"#4a4a4a\" d=\"M48.89,-144.43C45.76,-136.6 41.97,-127.12 38.46,-118.35\"/>\n",
              "<path fill=\"none\" stroke=\"#4a4a4a\" d=\"M50.75,-143.68C47.62,-135.86 43.83,-126.38 40.32,-117.61\"/>\n",
              "<polygon fill=\"#4a4a4a\" stroke=\"#4a4a4a\" points=\"42.28,-116.77 35.31,-108.79 35.78,-119.37 42.28,-116.77\"/>\n",
              "</g>\n",
              "<!-- Patient -->\n",
              "<g id=\"node3\" class=\"node\">\n",
              "<title>Patient</title>\n",
              "<ellipse fill=\"#404040\" stroke=\"#4a4a4a\" cx=\"56.6\" cy=\"-18\" rx=\"35.19\" ry=\"18\"/>\n",
              "<text text-anchor=\"middle\" x=\"56.6\" y=\"-14.3\" font-family=\"Times New Roman,serif\" font-size=\"14.00\" fill=\"white\">Patient</text>\n",
              "</g>\n",
              "<!-- Gender&#45;&gt;Patient -->\n",
              "<g id=\"edge2\" class=\"edge\">\n",
              "<title>Gender-&gt;Patient</title>\n",
              "<path fill=\"none\" stroke=\"#4a4a4a\" d=\"M59.68,-143.72C61.92,-133.41 64.48,-119.93 65.6,-107.91 67.09,-92.07 67.09,-87.93 65.6,-72.09 64.84,-63.92 63.41,-55.06 61.87,-47.01\"/>\n",
              "<path fill=\"none\" stroke=\"#4a4a4a\" d=\"M61.63,-144.14C63.89,-133.78 66.45,-120.31 67.59,-108.09 69.09,-92.07 69.09,-87.93 67.59,-71.91 66.81,-63.6 65.38,-54.74 63.84,-46.63\"/>\n",
              "<polygon fill=\"#4a4a4a\" stroke=\"#4a4a4a\" points=\"66.09,-46.17 60.66,-37.07 59.23,-47.57 66.09,-46.17\"/>\n",
              "</g>\n",
              "<!-- Drug&#45;&gt;Patient -->\n",
              "<g id=\"edge3\" class=\"edge\">\n",
              "<title>Drug-&gt;Patient</title>\n",
              "<path fill=\"none\" stroke=\"#4a4a4a\" d=\"M34.45,-71.68C37.58,-63.86 41.37,-54.38 44.88,-45.61\"/>\n",
              "<path fill=\"none\" stroke=\"#4a4a4a\" d=\"M36.3,-72.43C39.43,-64.6 43.23,-55.12 46.74,-46.35\"/>\n",
              "<polygon fill=\"#4a4a4a\" stroke=\"#4a4a4a\" points=\"49.42,-47.37 49.88,-36.79 42.92,-44.77 49.42,-47.37\"/>\n",
              "</g>\n",
              "</g>\n",
              "</svg>"
            ],
            "text/plain": [
              "<IPython.core.display.SVG object>"
            ]
          },
          "metadata": {},
          "output_type": "display_data"
        }
      ],
      "source": [
        "d1 = csl.CausalModel(m1)\n",
        "cslnb.showCausalModel(d1)"
      ]
    },
    {
      "cell_type": "markdown",
      "metadata": {
        "id": "Uto714OdgWRq"
      },
      "source": [
        "Computing P(Patient=Healed∣↪Drug=Without)"
      ]
    },
    {
      "cell_type": "code",
      "execution_count": 38,
      "metadata": {
        "colab": {
          "base_uri": "https://localhost:8080/",
          "height": 299
        },
        "id": "CQGO5lEMgYgd",
        "outputId": "72bbd3ed-e274-4052-dc4a-41de1800aa7a"
      },
      "outputs": [
        {
          "data": {
            "text/html": [
              "\n",
              "      <style>\n",
              "      .floating-box {\n",
              "      display: inline-block;\n",
              "      margin: 7px;\n",
              "      padding : 3px;\n",
              "      border: 0px solid transparent;  \n",
              "      valign:middle;\n",
              "      background-color: transparent;\n",
              "      }\n",
              "      </style>\n",
              "      <div class=\"floating-box\"><svg xmlns=\"http://www.w3.org/2000/svg\" xmlns:xlink=\"http://www.w3.org/1999/xlink\" width=\"98pt\" height=\"180pt\" viewBox=\"0.00 0.00 97.94 180.00\">\n",
              "<g id=\"graph0\" class=\"graph\" transform=\"scale(0.957447 0.957447) rotate(0) translate(4 184)\">\n",
              "<title>G</title>\n",
              "<!-- Gender -->\n",
              "<g id=\"node1\" class=\"node\">\n",
              "<title>Gender</title>\n",
              "<ellipse fill=\"#404040\" stroke=\"#4a4a4a\" cx=\"56.6\" cy=\"-162\" rx=\"37.89\" ry=\"18\"/>\n",
              "<text text-anchor=\"middle\" x=\"56.6\" y=\"-158.3\" font-family=\"Times New Roman,serif\" font-size=\"14.00\" fill=\"white\">Gender</text>\n",
              "</g>\n",
              "<!-- Drug -->\n",
              "<g id=\"node2\" class=\"node\">\n",
              "<title>Drug</title>\n",
              "<ellipse fill=\"#404040\" stroke=\"#4a4a4a\" cx=\"28.6\" cy=\"-90\" rx=\"28.7\" ry=\"18\"/>\n",
              "<text text-anchor=\"middle\" x=\"28.6\" y=\"-86.3\" font-family=\"Times New Roman,serif\" font-size=\"14.00\" fill=\"white\">Drug</text>\n",
              "</g>\n",
              "<!-- Gender&#45;&gt;Drug -->\n",
              "<g id=\"edge1\" class=\"edge\">\n",
              "<title>Gender-&gt;Drug</title>\n",
              "<path fill=\"none\" stroke=\"#4a4a4a\" d=\"M48.89,-144.43C45.76,-136.6 41.97,-127.12 38.46,-118.35\"/>\n",
              "<path fill=\"none\" stroke=\"#4a4a4a\" d=\"M50.75,-143.68C47.62,-135.86 43.83,-126.38 40.32,-117.61\"/>\n",
              "<polygon fill=\"#4a4a4a\" stroke=\"#4a4a4a\" points=\"42.28,-116.77 35.31,-108.79 35.78,-119.37 42.28,-116.77\"/>\n",
              "</g>\n",
              "<!-- Patient -->\n",
              "<g id=\"node3\" class=\"node\">\n",
              "<title>Patient</title>\n",
              "<ellipse fill=\"#404040\" stroke=\"#4a4a4a\" cx=\"56.6\" cy=\"-18\" rx=\"35.19\" ry=\"18\"/>\n",
              "<text text-anchor=\"middle\" x=\"56.6\" y=\"-14.3\" font-family=\"Times New Roman,serif\" font-size=\"14.00\" fill=\"white\">Patient</text>\n",
              "</g>\n",
              "<!-- Gender&#45;&gt;Patient -->\n",
              "<g id=\"edge2\" class=\"edge\">\n",
              "<title>Gender-&gt;Patient</title>\n",
              "<path fill=\"none\" stroke=\"#4a4a4a\" d=\"M59.68,-143.72C61.92,-133.41 64.48,-119.93 65.6,-107.91 67.09,-92.07 67.09,-87.93 65.6,-72.09 64.84,-63.92 63.41,-55.06 61.87,-47.01\"/>\n",
              "<path fill=\"none\" stroke=\"#4a4a4a\" d=\"M61.63,-144.14C63.89,-133.78 66.45,-120.31 67.59,-108.09 69.09,-92.07 69.09,-87.93 67.59,-71.91 66.81,-63.6 65.38,-54.74 63.84,-46.63\"/>\n",
              "<polygon fill=\"#4a4a4a\" stroke=\"#4a4a4a\" points=\"66.09,-46.17 60.66,-37.07 59.23,-47.57 66.09,-46.17\"/>\n",
              "</g>\n",
              "<!-- Drug&#45;&gt;Patient -->\n",
              "<g id=\"edge3\" class=\"edge\">\n",
              "<title>Drug-&gt;Patient</title>\n",
              "<path fill=\"none\" stroke=\"#4a4a4a\" d=\"M34.45,-71.68C37.58,-63.86 41.37,-54.38 44.88,-45.61\"/>\n",
              "<path fill=\"none\" stroke=\"#4a4a4a\" d=\"M36.3,-72.43C39.43,-64.6 43.23,-55.12 46.74,-46.35\"/>\n",
              "<polygon fill=\"#4a4a4a\" stroke=\"#4a4a4a\" points=\"49.42,-47.37 49.88,-36.79 42.92,-44.77 49.42,-47.37\"/>\n",
              "</g>\n",
              "</g>\n",
              "</svg><br><center><small><em>Causal Model</em></small></center></div><div class=\"floating-box\">$$\\begin{equation*}P( Patient \\mid \\hookrightarrow\\mkern-6.5muDrug) = \\sum_{Gender}{P\\left(Patient\\mid Drug,Gender\\right) \\cdot P\\left(Gender\\right)}\\end{equation*}$$<br><center><small><em>Explanation : backdoor ['Gender'] found.</em></small></center></div><div class=\"floating-box\"><table style=\"border:1px solid black;\">\n",
              "<tr style='border:1px solid black;color:black;background-color:#808080'>\n",
              "      <th colspan='2'><center>Patient</center></th></tr>\n",
              "<tr><th style='border:1px solid black;border-bottom-style: double;color:black;background-color:#BBBBBB'>\n",
              "      <center>Sick</center></th><th style='border:1px solid black;border-bottom-style: double;color:black;background-color:#BBBBBB'>\n",
              "      <center>Healed</center></th></tr>\n",
              "<tr><td style='color:black;background-color:#cbb264;text-align:right;'>0.4000</td><td style='color:black;background-color:#b2cb64;text-align:right;'>0.6000</td></tr>\n",
              "</table><br><center><small><em>Impact</em></small></center></div>"
            ],
            "text/plain": [
              "<IPython.core.display.HTML object>"
            ]
          },
          "metadata": {},
          "output_type": "display_data"
        }
      ],
      "source": [
        "cslnb.showCausalImpact(d1, \"Patient\", doing=\"Drug\",values={\"Drug\" : \"Without\"})"
      ]
    },
    {
      "cell_type": "markdown",
      "metadata": {
        "id": "JWp0pKg1gqg0"
      },
      "source": [
        "Computing  P(Patient=Healed∣↪Drug=With)"
      ]
    },
    {
      "cell_type": "code",
      "execution_count": 39,
      "metadata": {
        "colab": {
          "base_uri": "https://localhost:8080/",
          "height": 299
        },
        "id": "ygG4QSJggwJG",
        "outputId": "a54be2c4-0efd-45a3-8f97-d4264f9c617d"
      },
      "outputs": [
        {
          "data": {
            "text/html": [
              "\n",
              "      <style>\n",
              "      .floating-box {\n",
              "      display: inline-block;\n",
              "      margin: 7px;\n",
              "      padding : 3px;\n",
              "      border: 0px solid transparent;  \n",
              "      valign:middle;\n",
              "      background-color: transparent;\n",
              "      }\n",
              "      </style>\n",
              "      <div class=\"floating-box\"><svg xmlns=\"http://www.w3.org/2000/svg\" xmlns:xlink=\"http://www.w3.org/1999/xlink\" width=\"98pt\" height=\"180pt\" viewBox=\"0.00 0.00 97.94 180.00\">\n",
              "<g id=\"graph0\" class=\"graph\" transform=\"scale(0.957447 0.957447) rotate(0) translate(4 184)\">\n",
              "<title>G</title>\n",
              "<!-- Gender -->\n",
              "<g id=\"node1\" class=\"node\">\n",
              "<title>Gender</title>\n",
              "<ellipse fill=\"#404040\" stroke=\"#4a4a4a\" cx=\"56.6\" cy=\"-162\" rx=\"37.89\" ry=\"18\"/>\n",
              "<text text-anchor=\"middle\" x=\"56.6\" y=\"-158.3\" font-family=\"Times New Roman,serif\" font-size=\"14.00\" fill=\"white\">Gender</text>\n",
              "</g>\n",
              "<!-- Drug -->\n",
              "<g id=\"node2\" class=\"node\">\n",
              "<title>Drug</title>\n",
              "<ellipse fill=\"#404040\" stroke=\"#4a4a4a\" cx=\"28.6\" cy=\"-90\" rx=\"28.7\" ry=\"18\"/>\n",
              "<text text-anchor=\"middle\" x=\"28.6\" y=\"-86.3\" font-family=\"Times New Roman,serif\" font-size=\"14.00\" fill=\"white\">Drug</text>\n",
              "</g>\n",
              "<!-- Gender&#45;&gt;Drug -->\n",
              "<g id=\"edge1\" class=\"edge\">\n",
              "<title>Gender-&gt;Drug</title>\n",
              "<path fill=\"none\" stroke=\"#4a4a4a\" d=\"M48.89,-144.43C45.76,-136.6 41.97,-127.12 38.46,-118.35\"/>\n",
              "<path fill=\"none\" stroke=\"#4a4a4a\" d=\"M50.75,-143.68C47.62,-135.86 43.83,-126.38 40.32,-117.61\"/>\n",
              "<polygon fill=\"#4a4a4a\" stroke=\"#4a4a4a\" points=\"42.28,-116.77 35.31,-108.79 35.78,-119.37 42.28,-116.77\"/>\n",
              "</g>\n",
              "<!-- Patient -->\n",
              "<g id=\"node3\" class=\"node\">\n",
              "<title>Patient</title>\n",
              "<ellipse fill=\"#404040\" stroke=\"#4a4a4a\" cx=\"56.6\" cy=\"-18\" rx=\"35.19\" ry=\"18\"/>\n",
              "<text text-anchor=\"middle\" x=\"56.6\" y=\"-14.3\" font-family=\"Times New Roman,serif\" font-size=\"14.00\" fill=\"white\">Patient</text>\n",
              "</g>\n",
              "<!-- Gender&#45;&gt;Patient -->\n",
              "<g id=\"edge2\" class=\"edge\">\n",
              "<title>Gender-&gt;Patient</title>\n",
              "<path fill=\"none\" stroke=\"#4a4a4a\" d=\"M59.68,-143.72C61.92,-133.41 64.48,-119.93 65.6,-107.91 67.09,-92.07 67.09,-87.93 65.6,-72.09 64.84,-63.92 63.41,-55.06 61.87,-47.01\"/>\n",
              "<path fill=\"none\" stroke=\"#4a4a4a\" d=\"M61.63,-144.14C63.89,-133.78 66.45,-120.31 67.59,-108.09 69.09,-92.07 69.09,-87.93 67.59,-71.91 66.81,-63.6 65.38,-54.74 63.84,-46.63\"/>\n",
              "<polygon fill=\"#4a4a4a\" stroke=\"#4a4a4a\" points=\"66.09,-46.17 60.66,-37.07 59.23,-47.57 66.09,-46.17\"/>\n",
              "</g>\n",
              "<!-- Drug&#45;&gt;Patient -->\n",
              "<g id=\"edge3\" class=\"edge\">\n",
              "<title>Drug-&gt;Patient</title>\n",
              "<path fill=\"none\" stroke=\"#4a4a4a\" d=\"M34.45,-71.68C37.58,-63.86 41.37,-54.38 44.88,-45.61\"/>\n",
              "<path fill=\"none\" stroke=\"#4a4a4a\" d=\"M36.3,-72.43C39.43,-64.6 43.23,-55.12 46.74,-46.35\"/>\n",
              "<polygon fill=\"#4a4a4a\" stroke=\"#4a4a4a\" points=\"49.42,-47.37 49.88,-36.79 42.92,-44.77 49.42,-47.37\"/>\n",
              "</g>\n",
              "</g>\n",
              "</svg><br><center><small><em>Causal Model</em></small></center></div><div class=\"floating-box\">$$\\begin{equation*}P( Patient \\mid \\hookrightarrow\\mkern-6.5muDrug) = \\sum_{Gender}{P\\left(Patient\\mid Drug,Gender\\right) \\cdot P\\left(Gender\\right)}\\end{equation*}$$<br><center><small><em>Explanation : backdoor ['Gender'] found.</em></small></center></div><div class=\"floating-box\"><table style=\"border:1px solid black;\">\n",
              "<tr style='border:1px solid black;color:black;background-color:#808080'>\n",
              "      <th colspan='2'><center>Patient</center></th></tr>\n",
              "<tr><th style='border:1px solid black;border-bottom-style: double;color:black;background-color:#BBBBBB'>\n",
              "      <center>Sick</center></th><th style='border:1px solid black;border-bottom-style: double;color:black;background-color:#BBBBBB'>\n",
              "      <center>Healed</center></th></tr>\n",
              "<tr><td style='color:black;background-color:#b8c564;text-align:right;'>0.5500</td><td style='color:black;background-color:#c5b864;text-align:right;'>0.4500</td></tr>\n",
              "</table><br><center><small><em>Impact</em></small></center></div>"
            ],
            "text/plain": [
              "<IPython.core.display.HTML object>"
            ]
          },
          "metadata": {},
          "output_type": "display_data"
        }
      ],
      "source": [
        "d1 = csl.CausalModel(m1)\n",
        "cslnb.showCausalImpact(d1, \"Patient\", \"Drug\",values={\"Drug\" : \"With\"})"
      ]
    },
    {
      "cell_type": "markdown",
      "metadata": {
        "id": "Uih6pmIXg1X2"
      },
      "source": [
        "And then : $P(Patient=Healed∣↪Drug=With) = 0.45 $\n",
        "\n",
        "Therefore : $P(Patient=Healed∣↪Drug=Without) = 0.6 > P(Patient=Healed∣↪Drug=With) = 0.45 $\n",
        "\n",
        "Which means that taking this drug would not enhance the patient’s healing process, and it is better not to prescribe this drug for treatment."
      ]
    },
    {
      "cell_type": "markdown",
      "metadata": {
        "id": "rv7Jhhlth4FS"
      },
      "source": [
        "\n",
        "Simpson paradox solved by interventions\n",
        "\n",
        "So to summarize, the paradox appears when wrongly dealing with observations on Drug\n",
        " :"
      ]
    },
    {
      "cell_type": "code",
      "execution_count": 40,
      "metadata": {
        "colab": {
          "base_uri": "https://localhost:8080/",
          "height": 139
        },
        "id": "CGvho9GCh_Ez",
        "outputId": "cbe6a865-256a-4986-d81c-df437fd5ddaf"
      },
      "outputs": [
        {
          "data": {
            "text/html": [
              "<table style=\"border-style: hidden; border-collapse: collapse;\" width=\"100%\"><tr><td style=\"border-top:hidden;border-bottom:hidden;vertical-align:middle;\"><div align=\"center\" style=\"vertical-align:middle;\"><table style=\"border:1px solid black;\">\n",
              "<tr style='border:1px solid black;color:black;background-color:#808080'>\n",
              "      <th colspan='2'><center>Drug</center></th></tr>\n",
              "<tr><th style='border:1px solid black;border-bottom-style: double;color:black;background-color:#BBBBBB'>\n",
              "      <center>Without</center></th><th style='border:1px solid black;border-bottom-style: double;color:black;background-color:#BBBBBB'>\n",
              "      <center>With</center></th></tr>\n",
              "<tr><td style='text-align:right;'>0.5000</td><td style='text-align:right;'>0.5750</td></tr>\n",
              "</table><br><small><i>$P(Patient = Healed \\mid Drug )$<br/>Taking $Drug$ is observed as efficient to cure</i></small></div></td><td style=\"border-top:hidden;border-bottom:hidden;vertical-align:middle;\"><div align=\"center\" style=\"vertical-align:middle;\"><table style=\"border:1px solid black;\">\n",
              "<tr style='border:1px solid black;color:black;background-color:#808080'>\n",
              "      <th colspan='2'><center>Drug</center></th></tr>\n",
              "<tr><th style='border:1px solid black;border-bottom-style: double;color:black;background-color:#BBBBBB'>\n",
              "      <center>Without</center></th><th style='border:1px solid black;border-bottom-style: double;color:black;background-color:#BBBBBB'>\n",
              "      <center>With</center></th></tr>\n",
              "<tr><td style='text-align:right;'>0.8000</td><td style='text-align:right;'>0.7000</td></tr>\n",
              "</table><br><small><i>$P(Patient = Healed \\mid Gender=F,Drug)$<br/>except if the $gender$ of the patient is female</i></small></div></td><td style=\"border-top:hidden;border-bottom:hidden;vertical-align:middle;\"><div align=\"center\" style=\"vertical-align:middle;\"><table style=\"border:1px solid black;\">\n",
              "<tr style='border:1px solid black;color:black;background-color:#808080'>\n",
              "      <th colspan='2'><center>Drug</center></th></tr>\n",
              "<tr><th style='border:1px solid black;border-bottom-style: double;color:black;background-color:#BBBBBB'>\n",
              "      <center>Without</center></th><th style='border:1px solid black;border-bottom-style: double;color:black;background-color:#BBBBBB'>\n",
              "      <center>With</center></th></tr>\n",
              "<tr><td style='text-align:right;'>0.4000</td><td style='text-align:right;'>0.2000</td></tr>\n",
              "</table><br><small><i>$P(Patient = Healed \\mid Gender=M,Drug)$<br/>... or male.</i></small></div></td></tr></table>"
            ],
            "text/plain": [
              "<IPython.core.display.HTML object>"
            ]
          },
          "metadata": {},
          "output_type": "display_data"
        }
      ],
      "source": [
        "gnb.sideBySide(getCuredObservedProba(m1,{}),\n",
        "               getCuredObservedProba(m1,{'Gender':'F'}),\n",
        "               getCuredObservedProba(m1,{'Gender':'M'}),\n",
        "               captions=[\"$P(Patient = Healed \\mid Drug )$<br/>Taking $Drug$ is observed as efficient to cure\",\n",
        "                         \"$P(Patient = Healed \\mid Gender=F,Drug)$<br/>except if the $gender$ of the patient is female\",\n",
        "                         \"$P(Patient = Healed \\mid Gender=M,Drug)$<br/>... or male.\"])"
      ]
    },
    {
      "cell_type": "markdown",
      "metadata": {
        "id": "yknvcJ-7iE4q"
      },
      "source": [
        "… and disappears when dealing with intervention on Drug:"
      ]
    },
    {
      "cell_type": "code",
      "execution_count": 41,
      "metadata": {
        "colab": {
          "base_uri": "https://localhost:8080/",
          "height": 139
        },
        "id": "fb0u7dDviIIP",
        "outputId": "867c8139-d51e-43be-df99-fb24f265ec7e"
      },
      "outputs": [
        {
          "data": {
            "text/html": [
              "<table style=\"border-style: hidden; border-collapse: collapse;\" width=\"100%\"><tr><td style=\"border-top:hidden;border-bottom:hidden;vertical-align:middle;\"><div align=\"center\" style=\"vertical-align:middle;\"><table style=\"border:1px solid black;\">\n",
              "<tr style='border:1px solid black;color:black;background-color:#808080'>\n",
              "      <th colspan='2'><center>Drug</center></th></tr>\n",
              "<tr><th style='border:1px solid black;border-bottom-style: double;color:black;background-color:#BBBBBB'>\n",
              "      <center>Without</center></th><th style='border:1px solid black;border-bottom-style: double;color:black;background-color:#BBBBBB'>\n",
              "      <center>With</center></th></tr>\n",
              "<tr><td style='text-align:right;'>0.6000</td><td style='text-align:right;'>0.4500</td></tr>\n",
              "</table><br><small><i>$P(Patient = 1 \\mid \\hookrightarrow Drug )$<br/>Effectively $Drug$ taking is not efficient to cure</i></small></div></td><td style=\"border-top:hidden;border-bottom:hidden;vertical-align:middle;\"><div align=\"center\" style=\"vertical-align:middle;\"><table style=\"border:1px solid black;\">\n",
              "<tr style='border:1px solid black;color:black;background-color:#808080'>\n",
              "      <th colspan='2'><center>Drug</center></th></tr>\n",
              "<tr><th style='border:1px solid black;border-bottom-style: double;color:black;background-color:#BBBBBB'>\n",
              "      <center>Without</center></th><th style='border:1px solid black;border-bottom-style: double;color:black;background-color:#BBBBBB'>\n",
              "      <center>With</center></th></tr>\n",
              "<tr><td style='text-align:right;'>0.8000</td><td style='text-align:right;'>0.7000</td></tr>\n",
              "</table><br><small><i>$P(Patient = 1 \\mid \\hookrightarrow Drug, gender=F )$<br/>, the $gender$ of the patient being female</i></small></div></td><td style=\"border-top:hidden;border-bottom:hidden;vertical-align:middle;\"><div align=\"center\" style=\"vertical-align:middle;\"><table style=\"border:1px solid black;\">\n",
              "<tr style='border:1px solid black;color:black;background-color:#808080'>\n",
              "      <th colspan='2'><center>Drug</center></th></tr>\n",
              "<tr><th style='border:1px solid black;border-bottom-style: double;color:black;background-color:#BBBBBB'>\n",
              "      <center>Without</center></th><th style='border:1px solid black;border-bottom-style: double;color:black;background-color:#BBBBBB'>\n",
              "      <center>With</center></th></tr>\n",
              "<tr><td style='text-align:right;'>0.4000</td><td style='text-align:right;'>0.2000</td></tr>\n",
              "</table><br><small><i>$P(Patient = 1 \\mid \\hookrightarrow Drug, gender=M )$<br/>, ... or male.</i></small></div></td></tr></table>"
            ],
            "text/plain": [
              "<IPython.core.display.HTML object>"
            ]
          },
          "metadata": {},
          "output_type": "display_data"
        }
      ],
      "source": [
        "gnb.sideBySide(csl.causalImpact(d1,on=\"Patient\",doing=\"Drug\",values={\"Patient\":\"Healed\"})[1],\n",
        "               csl.causalImpact(d1,on=\"Patient\",doing=\"Drug\",knowing={\"Gender\"},values={\"Patient\":\"Healed\",\"Gender\":\"F\"})[1],\n",
        "               csl.causalImpact(d1,on=\"Patient\",doing=\"Drug\",knowing={\"Gender\"},values={\"Patient\":\"Healed\",\"Gender\":\"M\"})[1],\n",
        "               captions=[\"$P(Patient = 1 \\mid \\hookrightarrow Drug )$<br/>Effectively $Drug$ taking is not efficient to cure\",\n",
        "                         \"$P(Patient = 1 \\mid \\hookrightarrow Drug, gender=F )$<br/>, the $gender$ of the patient being female\",\n",
        "                         \"$P(Patient = 1 \\mid \\hookrightarrow Drug, gender=M )$<br/>, ... or male.\"])"
      ]
    }
  ],
  "metadata": {
    "colab": {
      "provenance": []
    },
    "kernelspec": {
      "display_name": "Python 3",
      "language": "python",
      "name": "python3"
    },
    "language_info": {
      "codemirror_mode": {
        "name": "ipython",
        "version": 3
      },
      "file_extension": ".py",
      "mimetype": "text/x-python",
      "name": "python",
      "nbconvert_exporter": "python",
      "pygments_lexer": "ipython3",
      "version": "3.10.4"
    }
  },
  "nbformat": 4,
  "nbformat_minor": 0
}
